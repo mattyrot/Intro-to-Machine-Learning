{
  "cells": [
    {
      "cell_type": "markdown",
      "metadata": {
        "id": "view-in-github",
        "colab_type": "text"
      },
      "source": [
        "<a href=\"https://colab.research.google.com/github/mattyrot/Intro-to-Machine-Learning/blob/main/ML_DL_Assignment3.ipynb\" target=\"_parent\"><img src=\"https://colab.research.google.com/assets/colab-badge.svg\" alt=\"Open In Colab\"/></a>"
      ]
    },
    {
      "cell_type": "markdown",
      "source": [
        "# Assignment 3: Image Classification\n",
        "\n",
        "In this assignment, we will build a convolutional neural network that can predict\n",
        "whether two shoes are from the **same pair** or from two **different pairs**.\n",
        "This kind of application can have real-world applications: for example to help\n",
        "people who are visually impaired to have more independence.\n",
        "\n",
        "We will explore two convolutional architectures. While we will give you starter\n",
        "code to help make data processing a bit easier, in this assignment you have a chance to build your neural network mostly by yourself.\n",
        "\n",
        "When you are finished with the assignment make sure you submit the following files:\n",
        "1. this file (ML_DL_Assignment3.ipynb) compressed to zip.\n",
        "2. the functions file (ML_DL_Functions3.py).\n",
        "3. the model parameters for the first model from section 3.3 ('best_CNN_model.pk').\n",
        "4. the model parameters for the second model from section 3.3 ('best_CNNChannel_model.pk').\n",
        "\n",
        "## Grading Method\n",
        "In this assignment you are given alot more freedom to implement your own models and training proccedures. Yet we still need an automatic method for testing your codes. This means that there are a few things which have to be done correctly in order for the testing to pass:\n",
        "1. Your preprocessing has to be exactly the same as the preprocessing done on the test set. To ensure this happens you got a small sample of validation images to compare your preprocessing to the test.\n",
        "2. your models have to be written in pytorch, they have to accept the correct input shape and output the correct shape and type.\n",
        "3. your models will be instantiated on the testing server without any arguments so make sure to not include any in your models.\n",
        "4. The values in the output of the model should have the correct meaning. For that reason you were given a prewritten get_accuracy function. make sure it works with your model without changing the function."
      ],
      "metadata": {
        "id": "Gam7Hf6UCtNF"
      }
    },
    {
      "cell_type": "code",
      "source": [
        "import pandas\n",
        "import numpy as np\n",
        "import matplotlib.pyplot as plt\n",
        "\n",
        "import torch\n",
        "import torch.nn as nn\n",
        "import torch.optim as optim\n",
        "import sys\n",
        "from PIL import Image\n",
        "\n",
        "def reload_functions():\n",
        "  if 'ML_DL_Functions3' in sys.modules:\n",
        "    del sys.modules['ML_DL_Functions3']\n",
        "  functions_path = drive_path.replace(\" \",\"\\ \") + 'ML_DL_Functions3.py'\n",
        "  !cp $functions_path ."
      ],
      "execution_count": null,
      "outputs": [],
      "metadata": {
        "id": "oVCAAW4HCtNJ"
      }
    },
    {
      "cell_type": "markdown",
      "source": [
        "## 1. Data\n",
        "\n",
        "Download the data from the course website. make sure you have both the template python functions file and the dataset data directory on the same directory in your google drive.\n",
        "\n",
        "Unzip the file. There are three\n",
        "main folders: `train`, `test_w` and `test_m`. Data in `train` will be used for\n",
        "training and validation, and the data in the other folders will be used for testing.\n",
        "This is so that the entire class will have the same test sets. The dataset is comprised of triplets of pairs, where each such triplet of image pairs was taken in a similar setting (by the same person).\n",
        "\n",
        "We've separated `test_w` and `test_m` so that we can track our model performance\n",
        "for women's shoes and men's shoes separately. Each of the test sets contain images of either exclusively men's shoes or women's\n",
        "shoes.\n",
        "\n",
        "Upload this data to Google Colab.\n",
        "Then, mount Google Drive from your Google Colab notebook:"
      ],
      "metadata": {
        "id": "UoNLLeZ2CtNK"
      }
    },
    {
      "cell_type": "code",
      "source": [
        "from google.colab import drive\n",
        "drive_path = '/content/gdrive/MyDrive/Intro_to_Deep_Learning/Assignment3/' # TODO - UPDATE ME!\n",
        "drive.mount('/content/gdrive')"
      ],
      "execution_count": null,
      "outputs": [],
      "metadata": {
        "id": "6-Y0EgGACtNK"
      }
    },
    {
      "cell_type": "markdown",
      "source": [
        "After you have done so, read this entire section\n",
        "before proceeding. There are right and wrong ways of\n",
        "processing this data. If you don't make the correct choices, you may find\n",
        "yourself needing to start over.\n",
        "Many machine learning projects fail because of the lack of care taken during\n",
        "the data processing stage."
      ],
      "metadata": {
        "id": "ezXaE616CtNK"
      }
    },
    {
      "cell_type": "markdown",
      "source": [
        "### 1.1 Loading and Preprocessing the data\n",
        "\n",
        "Load the training and test data, and separate your training data into training and validation.\n",
        "Create the numpy arrays `train_data`, `valid_data`, `test_w` and `test_m`, all of which should\n",
        "be of shape `[*, 3, 2, 224, 224, 3]`. The dimensions of these numpy arrays are as follows:\n",
        "\n",
        "- `*` - the number of triplets allocated to train, valid, or test\n",
        "- `3` - the 3 pairs of shoe images in that triplet\n",
        "- `2` - the left/right shoes\n",
        "- `224` - the height of each image\n",
        "- `224` - the width of each image\n",
        "- `3` - the colour channels\n",
        "\n",
        "So, the item `train_data[4,0,0,:,:,:]` should give us the left shoe of the first image of the fifth person.The item `train_data[4,0,1,:,:,:]`  should be the right shoe in the same pair.\n",
        "The item `train_data[4,1,1,:,:,:]`  should be the right shoe in a different pair of that same person.\n",
        "\n",
        "When you first load the images using (for example) `Image.open`, you may see a numpy array of shape\n",
        "`[224, 224, 4]` instead of `[224, 224, 3]`. That last channel is what's called the alpha channel for transparent\n",
        "pixels, and should be removed.\n",
        "**The pixel intensities are stored as an integer between 0 and 255.\n",
        "Make sure you normlize your images, namely, divide the intensities by 255 so that you have floating-point values between 0 and 1.** Then, subtract 0.5\n",
        "so that the elements of `train_data`, `valid_data` and `test_data` are between -0.5 and 0.5.\n",
        "**Note that this step actually makes a huge difference in training!**\n",
        "\n",
        "This function might take a while to run; it can takes several minutes to just\n",
        "load the files from Google Drive.  If you want to avoid\n",
        "running this code multiple times, you can save\n",
        "your numpy arrays and load it later:\n",
        "https://docs.scipy.org/doc/numpy/reference/generated/numpy.save.html"
      ],
      "metadata": {
        "id": "uarcWqCrCtNL"
      }
    },
    {
      "cell_type": "code",
      "source": [
        "# Your code goes here. Make sure it does not get cut off\n",
        "# You can use the code below to help you get started. You're welcome to modify\n",
        "# the code or remove it entirely: it's just here so that you don't get stuck\n",
        "# reading files\n",
        "\n",
        "import glob\n",
        "path = drive_path + \"data/train/*.jpg\"\n",
        "images = {}\n",
        "for file in glob.glob(path):\n",
        "    filename = file.split(\"/\")[-1]            # get the name of the .jpg file\n",
        "    img = np.asarray(Image.open(file))        # read the image as a numpy array\n",
        "    images[filename] = img[:, :, :3]          # remove the alpha channel\n",
        "\n",
        "train_data = ...\n",
        "valid_data = ...\n",
        "test_m_data  = ...\n",
        "test_w_data  = ..."
      ],
      "execution_count": null,
      "outputs": [],
      "metadata": {
        "id": "nGGthoJiCtNL"
      }
    },
    {
      "cell_type": "code",
      "source": [
        "# Run this code\n",
        "test1 = np.load(drive_path+\"data/preproccessing_validation/preproccessing_validation_test1.npy\")\n",
        "test2 = np.load(drive_path+\"data/preproccessing_validation/preproccessing_validation_test2.npy\")\n",
        "test3 = np.load(drive_path+\"data/preproccessing_validation/preproccessing_validation_test3.npy\")\n",
        "if (test1 != train_data[4,0,0,:,:,:]).any() or \\\n",
        "   (test2 != train_data[4,0,1,:,:,:]).any() or \\\n",
        "   (test3 != train_data[4,1,1,:,:,:]).any():\n",
        "   print(\"preprocessing error, make sure you followed all instructions carefully\")\n",
        "\n",
        "plt.figure()\n",
        "plt.imshow(train_data[4,0,0,:,:,:]+0.5) # left shoe of first pair submitted by 5th student\n",
        "plt.figure()\n",
        "plt.imshow(train_data[4,0,1,:,:,:]+0.5) # right shoe of first pair submitted by 5th student\n",
        "plt.figure()\n",
        "plt.imshow(train_data[4,1,1,:,:,:]+0.5) # right shoe of second pair submitted by 5th student"
      ],
      "execution_count": null,
      "outputs": [],
      "metadata": {
        "id": "VThPILFGCtNL"
      }
    },
    {
      "cell_type": "markdown",
      "source": [
        "### 1.2 Generating Same Pairs\n",
        "\n",
        "Since we want to train a model that determines whether two shoes come from the **same**\n",
        "pair or **different** pairs, we need to create some labelled training data.\n",
        "Our model will take in an image, either consisting of two shoes from the **same pair**\n",
        "or from **different pairs**. So, we'll need to generate some *positive examples* with\n",
        "images containing two shoes that *are* from the same pair, and some *negative examples* where\n",
        "images containing two shoes that *are not* from the same pair.\n",
        "We'll generate the *positive examples* in this part, and the *negative examples* in the next part.\n",
        "\n",
        "Write a function `generate_same_pair()` that takes one of the data sets that you produced\n",
        "in part (a), and generates a numpy array where each pair of shoes in the data set is\n",
        "concatenated together. In particular, we'll be concatenating together images of left\n",
        "and right shoes along the **height** axis. Your function `generate_same_pair` should\n",
        "return a  numpy array of shape `[*, 448, 224, 3]`.\n",
        "\n",
        "While at this stage we are working with numpy arrays, later on, we will need to convert this numpy array into a PyTorch tensor with shape\n",
        "`[*, 3, 448, 224]`. For now, we'll keep the RGB channel as the last dimension since\n",
        "that's what `plt.imshow` requires."
      ],
      "metadata": {
        "id": "JbsarNQoCtNL"
      }
    },
    {
      "cell_type": "code",
      "source": [
        "# Your code goes here\n",
        "\n",
        "# Run this code\n",
        "print(train_data.shape) # if this is [N, 3, 2, 224, 224, 3]\n",
        "print(generate_same_pair(train_data).shape) # should be [N*3, 448, 224, 3]\n",
        "plt.imshow(generate_same_pair(train_data)[0]+0.5) # should show 2 shoes from the same pair"
      ],
      "execution_count": null,
      "outputs": [],
      "metadata": {
        "id": "-sSr02Y-CtNM"
      }
    },
    {
      "cell_type": "markdown",
      "source": [
        "### 1.3 Generate Different Pairs\n",
        "\n",
        "Write a function `generate_different_pair()` that takes one of the data sets that\n",
        "you produced in part (a), and generates a numpy array in the same shape as part (b).\n",
        "However, each image will contain 2 shoes from a **different** pair, but submitted\n",
        "by the **same student**. Do this by jumbling the 3 pairs of shoes submitted by\n",
        "each student.\n",
        "\n",
        "Theoretically, for each person (triplet of pairs), there are 6 different combinations\n",
        "of \"wrong pairs\" that we could produce. To keep our data set *balanced*, we will\n",
        "only produce **three** combinations of wrong pairs per unique person.\n",
        "In other words,`generate_same_pairs` and `generate_different_pairs` should\n",
        "return the same number of training examples."
      ],
      "metadata": {
        "id": "HLbv4a7iCtNM"
      }
    },
    {
      "cell_type": "code",
      "source": [
        "# Your code goes here\n",
        "\n",
        "# Run this code\n",
        "print(train_data.shape) # if this is [N, 3, 2, 224, 224, 3]\n",
        "print(generate_different_pair(train_data).shape) # should be [N*3, 448, 224, 3]\n",
        "plt.imshow(generate_different_pair(train_data)[0]+0.5) # should show 2 shoes from different pairs"
      ],
      "execution_count": null,
      "outputs": [],
      "metadata": {
        "id": "N8T4KAHoCtNM"
      }
    },
    {
      "cell_type": "markdown",
      "source": [
        "#### Food for thought\n",
        "\n",
        "Why do we insist that the different pairs of shoes still come from the same\n",
        "person?  (Hint: what else do images from the same person have in common?)\n",
        "\n",
        "Why is it important that our data set be *balanced*? In other words suppose we created\n",
        "a data set where 99% of the images are of shoes that are *not* from the same pair, and\n",
        "1% of the images are shoes that *are* from the same pair. Why could this be a problem?"
      ],
      "metadata": {
        "id": "2HT1VQvpCtNM"
      }
    },
    {
      "cell_type": "markdown",
      "source": [
        "## 2. Convolutional Neural Networks\n",
        "\n",
        "Before starting this question, we recommend reviewing the lecture and its associated example notebook on CNNs.\n",
        "\n",
        "In this section, we will build two CNN models in PyTorch.\n",
        "\n"
      ],
      "metadata": {
        "id": "8_pj6QPHCtNM"
      }
    },
    {
      "cell_type": "markdown",
      "source": [
        "### 2.1 Convolutional Model\n",
        "\n",
        "Open the functions file(ML_DL_Functions3.py) and Implement a CNN model in PyTorch called `CNN` that will take images of size\n",
        "$3 \\times 448 \\times 224$, and classify whether the images contain shoes from\n",
        "the same pair or from different pairs.\n",
        "\n",
        "The model should contain the following layers:\n",
        "\n",
        "- A convolution layer that takes in 3 channels, and outputs $n$ channels.\n",
        "- A $2 \\times 2$ downsampling (either using a strided convolution in the previous step, or max pooling)\n",
        "- A second convolution layer that takes in $n$ channels, and outputs $2\\cdot n$ channels.\n",
        "- A $2 \\times 2$ downsampling (either using a strided convolution in the previous step, or max pooling)\n",
        "- A third convolution layer that takes in $2\\cdot n$ channels, and outputs $4\\cdot n$ channels.\n",
        "- A $2 \\times 2$ downsampling (either using a strided convolution in the previous step, or max pooling)\n",
        "- A fourth convolution layer that takes in $4\\cdot n$ channels, and outputs $8\\cdot n$ channels.\n",
        "- A $2 \\times 2$ downsampling (either using a strided convolution in the previous step, or max pooling)\n",
        "- A fully-connected layer with 100 hidden units\n",
        "- A fully-connected layer with 2 hidden units\n",
        "\n",
        "make sure the CNN's constructor(__init__) function has no arguments. Instantiate the variable $n$ inside the constructor(__init__) of your CNN. You can use either $3 \\times 3$ or $5 \\times 5$\n",
        "convolutions kernels. Set your padding to be `(kernel_size - 1) / 2` so that your feature maps\n",
        "have an even height/width.\n",
        "\n",
        "Note that we are omitting in our description certain steps that practitioners will typically not mention,\n",
        "like ReLU activations and reshaping operations. Use the example presented in class to figure out where they are.\n",
        "make sure the output of the model has a shape of (N,2) where N is the batch_size."
      ],
      "metadata": {
        "id": "sNgssFzFE0a1"
      }
    },
    {
      "cell_type": "markdown",
      "source": [
        "### 2.2 Channeled Convolutional Neural Network\n",
        "\n",
        "Open the functions file(ML_DL_Functions3.py) and Implement a CNN model in PyTorch called `CNNChannel` that contains the same layers as\n",
        "in the Part (a), but with one crucial difference: instead of starting with an image\n",
        "of shape $3 \\times 448 \\times 224$, we will first manipulate the image so that the\n",
        "left and right shoes images are concatenated along the **channel** dimension.\n",
        "\n",
        "<img src=\"https://drive.google.com/uc?id=1B59VE43X-6Dw3ag-9Ndn6vPEzbnFem8K\" width=\"400px\" />\n",
        "\n",
        "\n",
        "Complete the manipulation in the `forward()` method (by slicing and using\n",
        "the function `torch.cat`). The input to the first convolutional layer\n",
        "should have 6 channels instead of 3 (input shape $6 \\times 224 \\times 224$).\n",
        "\n",
        "Use the same hyperparameter choices as you did in part (a), e.g. for the kernel size,\n",
        "choice of downsampling, and other choices.\n",
        "\n",
        "make sure the output of the model has a shape of (N,2) where N is the batch_size."
      ],
      "metadata": {
        "id": "syiZ4m06CtNN"
      }
    },
    {
      "cell_type": "markdown",
      "source": [
        "#### Food for thought\n",
        "\n",
        "The two models are quite similar, and should have almost the same number of parameters.\n",
        "However, one of these models will perform better, showing that architecture choices **do**\n",
        "matter in machine learning. why would one of these models perform better?"
      ],
      "metadata": {
        "id": "bxzrDEszCtNN"
      }
    },
    {
      "cell_type": "markdown",
      "source": [
        "### 2.3 Get Accuracy\n",
        "\n",
        "The function `get_accuracy` is written for you.\n",
        "\n",
        "Unlike in the previous assignment, here we will separately compute the model accuracy on the\n",
        "positive and negative samples."
      ],
      "metadata": {
        "id": "-yNu2OiQCtNN"
      }
    },
    {
      "cell_type": "code",
      "source": [
        "def get_accuracy(model, data, batch_size=50,device='cpu'):\n",
        "    \"\"\"Compute the model accuracy on the data set. This function returns two\n",
        "    separate values: the model accuracy on the positive samples,\n",
        "    and the model accuracy on the negative samples.\n",
        "\n",
        "    Example Usage:\n",
        "\n",
        "    >>> model = CNN() # create untrained model\n",
        "    >>> pos_acc, neg_acc= get_accuracy(model, valid_data)\n",
        "    >>> false_positive = 1 - pos_acc\n",
        "    >>> false_negative = 1 - neg_acc\n",
        "    \"\"\"\n",
        "\n",
        "    model.eval()\n",
        "    n = data.shape[0]\n",
        "\n",
        "    data_pos = generate_same_pair(data)      # should have shape [n * 3, 448, 224, 3]\n",
        "    data_neg = generate_different_pair(data) # should have shape [n * 3, 448, 224, 3]\n",
        "\n",
        "    pos_correct = 0\n",
        "    for i in range(0, len(data_pos), batch_size):\n",
        "        xs = torch.Tensor(data_pos[i:i+batch_size]).permute(0,3,1,2)\n",
        "        xs = xs.to(device)\n",
        "        zs = model(xs)\n",
        "        pred = zs.max(1, keepdim=True)[1] # get the index of the max logit\n",
        "        pred = pred.detach().cpu().numpy()\n",
        "        pos_correct += (pred == 1).sum()\n",
        "\n",
        "    neg_correct = 0\n",
        "    for i in range(0, len(data_neg), batch_size):\n",
        "        xs = torch.Tensor(data_neg[i:i+batch_size]).permute(0,3,1,2)\n",
        "        xs = xs.to(device)\n",
        "        zs = model(xs)\n",
        "        pred = zs.max(1, keepdim=True)[1] # get the index of the max logit\n",
        "        pred = pred.detach().cpu().numpy()\n",
        "        neg_correct += (pred == 0).sum()\n",
        "\n",
        "    return pos_correct / (n * 3), neg_correct / (n * 3)"
      ],
      "execution_count": null,
      "outputs": [],
      "metadata": {
        "id": "9jtjJ1eiCtNN"
      }
    },
    {
      "cell_type": "markdown",
      "source": [
        "#### Food for thought\n",
        "why do we wish to track the false positives and false negatives separately?"
      ],
      "metadata": {
        "id": "icHN_Yaf7xd_"
      }
    },
    {
      "cell_type": "markdown",
      "source": [
        "## 3. Training\n",
        "\n",
        "Now, we will write the functions required to train the model.\n",
        "\n",
        "Although our task is a binary classification problem, we will still use the architecture\n",
        "of a multi-class classification problem. That is, we'll use a one-hot vector to represent\n",
        "our target. We'll also use `CrossEntropyLoss` instead of\n",
        "`BCEWithLogitsLoss` (this is a standard practice in machine learning because\n",
        "this architecture often performs better).\n",
        "\n",
        "### 3.1 train model\n",
        "\n",
        "Write the function `train_model` that takes in (as parameters) the model, training data,\n",
        "validation data, and other hyperparameters like the batch size, weight decay, etc.\n",
        "\n",
        "Since our positive (shoes of the same pair) and negative (shoes of different pairs) training sets are separate, it is actually easier for\n",
        "us to generate separate minibatches of positive and negative training data.\n",
        " In\n",
        "each iteration, we'll take `batch_size / 2` positive samples and `batch_size / 2`\n",
        "negative samples. We will also generate labels of 1's for the positive samples,\n",
        "and 0's for the negative samples.\n",
        "\n",
        "Here is what your training function should include:\n",
        "\n",
        "- main training loop; choice of loss function; choice of optimizer\n",
        "- obtaining the positive and negative samples\n",
        "- shuffling the positive and negative samples at the start of each epoch\n",
        "- in each iteration, take `batch_size / 2` positive samples and `batch_size / 2` negative samples\n",
        "  as our input for this batch\n",
        "- in each iteration, take `np.ones(batch_size / 2)` as the labels for the positive samples, and\n",
        "  `np.zeros(batch_size / 2)` as the labels for the negative samples\n",
        "- conversion from numpy arrays to PyTorch tensors, making sure that the input has dimensions $N \\times C \\times H \\times W$ (known as NCHW tensor), where $N$ is the number of images batch size, $C$ is the number of channels, $H$ is the height of the image, and $W$ is the width of the image.\n",
        "- computing the forward and backward passes\n",
        "- after every epoch, report the accuracies for the training set and validation set\n",
        "- track the training curve information and plot the training curve\n",
        "\n",
        "It is also recommended to checkpoint your model (save a copy) after every epoch."
      ],
      "metadata": {
        "id": "VoILsi1BCtNN"
      }
    },
    {
      "cell_type": "code",
      "source": [
        "# you can change the signature and structure of this function as you please\n",
        "# the code and comments below are only a suggestion to get you started\n",
        "def train_model(model,\n",
        "                train_data=train_data,\n",
        "                validation_data=valid_data,\n",
        "                batch_size=...,\n",
        "                learning_rate=...,\n",
        "                weight_decay=...,\n",
        "                epochs=...,\n",
        "                checkpoint_path=None):\n",
        "  # Initialize Loss function and optimizer\n",
        "  # ...\n",
        "\n",
        "  # Create the positive and negative pairs\n",
        "  # ...\n",
        "  for epoch in range(epochs):\n",
        "    # shuffle the positive and negative pairs\n",
        "    # ...\n",
        "    for i in range(0,...,batch_size//2):\n",
        "      ...\n",
        "      # sample batch_size//2 of positive pairs and batch_size//2 of negative pairs\n",
        "      # ...\n",
        "\n",
        "      # Create the labels of the batch and combine the positive and negative half batches\n",
        "      # ...\n",
        "\n",
        "      # Conversion from numpy array to torch tensor (if working with gpu also change device to gpu)\n",
        "      # ...\n",
        "\n",
        "      # ... # Reset the optimizer\n",
        "      # ... # Predict output\n",
        "      # ... # Compute the loss\n",
        "      # ... # Backward pass\n",
        "      # ... # Update the parameters\n",
        "\n",
        "    # track the accuracy and loss of the training and validation\n",
        "    # ...\n",
        "    # checkpoint the model\n",
        "    # ...\n",
        "\n",
        "\n",
        "  return ...\n"
      ],
      "execution_count": null,
      "outputs": [],
      "metadata": {
        "id": "752UvSvrCtNN"
      }
    },
    {
      "cell_type": "markdown",
      "source": [
        "### 3.2 Sanity check\n",
        "\n",
        "Sanity check your code from 3.1 and from 2.1 and 2.2 by showing that your models\n",
        "can memorize a very small subset of the training set (e.g. 5 images).\n",
        "You should be able to achieve 90%+ training accuracy (don't forget to calculate the accuracy)\n",
        "relatively quickly (within ~30 or so iterations).\n",
        "\n",
        "\n",
        "(Start with the second network, it is easier to converge)\n",
        "\n",
        "Try to find the general parameters combination that work for each network, it can help you a little bit later."
      ],
      "metadata": {
        "id": "7f2A1hpxCtNN"
      }
    },
    {
      "cell_type": "code",
      "source": [
        "reload_functions()\n",
        "import ML_DL_Functions3\n",
        "# Write your code here. Remember to include your results so that we can\n",
        "# see that your model attains a high training accuracy."
      ],
      "execution_count": null,
      "outputs": [],
      "metadata": {
        "id": "iWYOb6ftCtNN"
      }
    },
    {
      "cell_type": "markdown",
      "source": [
        "### 3.3 training and saving the optimal model\n",
        "\n",
        "Train your models from Q2(a) and Q2(b). Change the values of a few\n",
        "hyperparameters, including the learning rate, batch size, choice of $n$, and\n",
        "the kernel size. You do not need to check all values for all hyperparameters. Instead, try to make big changes to see how each change affect your scores.\n",
        "(try to start with finding a resonable learning rate for each network, that start changing the other parameters, the first network might need bigger $n$ and kernel size)\n",
        "\n",
        "In this section, choose your hyperparameters run the training and save the model in the drive. You should try to save the your **single best** model.\n",
        "Do this by choosing the  model\n",
        "architecture that produces the best validation accuracy. For instance,\n",
        "if your model attained the\n",
        "best validation accuracy in epoch 12, then the weights at epoch 12 is what you should be using.  Remember to submit the model with your code in the moodle submission.\n",
        "\n",
        "It is recommended to plot the training curves."
      ],
      "metadata": {
        "id": "EvOIlKCvCtNN"
      }
    },
    {
      "cell_type": "code",
      "source": [
        "reload_functions()\n",
        "import ML_DL_Functions3\n",
        "CNN_model = ML_DL_Functions3.CNN() # this has to be the blueprint for the model(don't add arguments)\n",
        "CNNChannel_model = ML_DL_Functions3.CNNChannel() # this has to be the blueprint for the model(don't add arguments)\n",
        "\n",
        "# Insert your training here\n"
      ],
      "execution_count": null,
      "outputs": [],
      "metadata": {
        "id": "lN8bJxyGCtNN"
      }
    },
    {
      "cell_type": "code",
      "source": [
        "# Run the following code and submit to the moodle the two models saved\n",
        "checkpoint_path  = drive_path+\"checkpoints/\" # you can change the path\n",
        "torch.save(CNN_model.state_dict(), checkpoint_path+\"best_CNN_model.pk\") # Do not change the name of the checkpoint file\n",
        "torch.save(CNNChannel_model.state_dict(), checkpoint_path+\"best_CNNChannel_model.pk\") # Do not change the name of the checkpoint file"
      ],
      "metadata": {
        "id": "Wp2F86anD4mk"
      },
      "execution_count": null,
      "outputs": []
    },
    {
      "cell_type": "markdown",
      "source": [
        "## 4. Testing\n",
        "\n",
        "\n",
        "This part is mainly to help you get a feeling of your models performance. It should not take you long to finish."
      ],
      "metadata": {
        "id": "Sna8Lu8zCtNO"
      }
    },
    {
      "cell_type": "markdown",
      "source": [
        "### 4.1. Accuracies\n",
        "\n",
        "Report the test accuracies of your **single best** model,\n",
        "separately for the two test sets.\n",
        "Do this by choosing the  model\n",
        "architecture that produces the best validation accuracy. For instance,\n",
        "if your model attained the\n",
        "best validation accuracy in epoch 12, then the weights at epoch 12 is what you should be using\n",
        "to report the test accuracy."
      ],
      "metadata": {
        "id": "En2QfepWFoRk"
      }
    },
    {
      "cell_type": "code",
      "source": [
        "reload_functions()\n",
        "import ML_DL_Functions3\n",
        "# Write your code here."
      ],
      "execution_count": null,
      "outputs": [],
      "metadata": {
        "id": "CfrZDHYnCtNO"
      }
    },
    {
      "cell_type": "markdown",
      "source": [
        "Notice that this testing has a random element to it, depending on which images where chosen in the generate pairs. In order to grade your code the testing will be run multiple times to reduce the randomness."
      ],
      "metadata": {
        "id": "c7M4K0SNhVlD"
      }
    },
    {
      "cell_type": "markdown",
      "source": [
        "### 4.2 Men's Shoes example\n",
        "\n",
        "Display one set of men's shoes that your model correctly classified as being\n",
        "from the same pair.\n",
        "\n",
        "display one set of inputs that your model classified incorrectly.\n"
      ],
      "metadata": {
        "id": "auR6zVmECtNO"
      }
    },
    {
      "cell_type": "code",
      "source": [
        "# Write your code here."
      ],
      "metadata": {
        "id": "2JznS9apnj5d"
      },
      "execution_count": null,
      "outputs": []
    },
    {
      "cell_type": "markdown",
      "source": [
        "\n",
        "### 4.2 Women's Shoes example\n",
        "\n",
        "Display one set of women's shoes that your model correctly classified as being\n",
        "from the same pair.\n",
        "\n",
        "display one set of inputs that your model classified incorrectly."
      ],
      "metadata": {
        "id": "TUOMszrnCtNO"
      }
    },
    {
      "cell_type": "code",
      "source": [
        "# Write your code here."
      ],
      "metadata": {
        "id": "uiD2VwsenliH"
      },
      "execution_count": null,
      "outputs": []
    }
  ],
  "metadata": {
    "colab": {
      "provenance": [],
      "gpuType": "T4",
      "include_colab_link": true
    },
    "language_info": {
      "name": "python"
    },
    "kernelspec": {
      "name": "python3",
      "display_name": "Python 3"
    },
    "accelerator": "GPU"
  },
  "nbformat": 4,
  "nbformat_minor": 0
}