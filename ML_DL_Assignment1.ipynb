{
  "nbformat": 4,
  "nbformat_minor": 0,
  "metadata": {
    "colab": {
      "provenance": [],
      "include_colab_link": true
    },
    "kernelspec": {
      "name": "python3",
      "display_name": "Python 3"
    },
    "accelerator": "TPU"
  },
  "cells": [
    {
      "cell_type": "markdown",
      "metadata": {
        "id": "view-in-github",
        "colab_type": "text"
      },
      "source": [
        "<a href=\"https://colab.research.google.com/github/mattyrot/Intro-to-Machine-Learning/blob/main/ML_DL_Assignment1.ipynb\" target=\"_parent\"><img src=\"https://colab.research.google.com/assets/colab-badge.svg\" alt=\"Open In Colab\"/></a>"
      ]
    },
    {
      "cell_type": "markdown",
      "metadata": {
        "id": "3bhfIKbQzGq2"
      },
      "source": [
        "# Assignment 1. Student Performance Index\n",
        "\n",
        "In this assignment, we will build models to predict student's performance. We will be using the \"Student Performance Dataset\" a dataset which includes student grades, demographic, social and school related features that has been collected by using school reports and questionnaires.\n",
        "You can download the dataset from the moodle. You can also read on the dataset from [the UCI Machine Learning Repository](https://archive.ics.uci.edu/dataset/320/student+performance).\n",
        "\n",
        "Our target value will be the student's performance in the end of the year which is marked 'G3' in the dataset. In the first part of the assignment you will be writing a linear regression model to predict the students grade at the end of the year. In the second part of the assignment you will build a classifier which predicts if the student's performance at the end of the year will be above average.\n",
        "\n",
        "The assignment includes two files.\n",
        "1. This file (ML_DL_Assignment1.ipynb)\n",
        "2. A python utils file which you will fill out (ML_DL_Functions1.py)\n",
        "\n",
        "As well as the student performance dataset file.\n",
        "\n",
        "In this assignment you will mount and load the dataset and functions file from google drive. To start make sure you have both the template python functions file and the student dataset file on the same directory in your google drive.\n",
        "\n",
        "\n",
        "**IMPORTANT:**\n",
        "When you are finished with the assignment make sure you submit both ipynb file and the functions file flat (**NOT inside a directory**). Do not change the files names(ML_DL_Assignment1.ipynb, and ML_DL_Functions1.py). This is crucial and can cause your code to not run in the testing."
      ]
    },
    {
      "cell_type": "code",
      "source": [
        "from google.colab import drive\n",
        "drive.mount('/content/drive')"
      ],
      "metadata": {
        "colab": {
          "base_uri": "https://localhost:8080/"
        },
        "id": "MuZrBHB8NGYG",
        "outputId": "1557ce0c-dc7b-4e42-e4bd-dd07f8c256d6"
      },
      "execution_count": null,
      "outputs": [
        {
          "output_type": "stream",
          "name": "stdout",
          "text": [
            "Mounted at /content/drive\n"
          ]
        }
      ]
    },
    {
      "cell_type": "code",
      "source": [
        "import pandas\n",
        "import numpy as np\n",
        "import matplotlib.pyplot as plt\n",
        "import sys"
      ],
      "metadata": {
        "id": "0Lmr0SlRrO8S"
      },
      "execution_count": null,
      "outputs": []
    },
    {
      "cell_type": "markdown",
      "source": [
        "\n",
        "To make sure that you always have the newest version of your functions file(even if it changes whilst working on the assignment) we provided you with a reload function:"
      ],
      "metadata": {
        "id": "TSn126HSU-Pq"
      }
    },
    {
      "cell_type": "code",
      "source": [
        "def reload_functions():\n",
        "  if 'ML_DL_Functions1' in sys.modules:\n",
        "    del sys.modules['ML_DL_Functions1']\n",
        "  functions_path = drive_path.replace(\" \",\"\\ \") + 'ML_DL_Functions1.py'\n",
        "  !cp $functions_path ."
      ],
      "metadata": {
        "id": "IojaiMUKTIvC"
      },
      "execution_count": null,
      "outputs": []
    },
    {
      "cell_type": "markdown",
      "source": [
        "## 1. The Data\n",
        "\n"
      ],
      "metadata": {
        "id": "HHNo6oWapvNg"
      }
    },
    {
      "cell_type": "markdown",
      "source": [
        "### 1.1 Load your dataset from the google drive\n",
        "Start by setting up a Google Colab notebook in which to do your work.\n",
        "you might find this link helpful:\n",
        "\n",
        "- https://colab.research.google.com/github/googlecolab/colabtools/blob/master/notebooks/colab-github-demo.ipynb\n",
        "\n",
        "\n",
        "To process and read the data, we use the popular `pandas` package for data analysis."
      ],
      "metadata": {
        "id": "yV_9s6_Qqb09"
      }
    },
    {
      "cell_type": "markdown",
      "source": [
        "Now that your notebook is set up, we can load the data into the notebook. You will need to upload the \"student-mat.csv\" dataset and the functions file(\"ML_DL_Functions1.py\") to a directory in google drive and mount your Google Drive to the colab notebook.\n",
        "\n",
        "Here are some resources to help you get started:\n",
        "\n",
        "[http://colab.research.google.com/notebooks/io.ipynb](https://colab.research.google.com/notebooks/io.ipynb)"
      ],
      "metadata": {
        "id": "yX2J_-6-rvtg"
      }
    },
    {
      "cell_type": "code",
      "source": [
        "from google.colab import drive\n",
        "import sys\n",
        "drive.mount('/content/gdrive')\n",
        "\n",
        "drive_path = '/content/' # TODO - UPDATE ME WITH THE TRUE PATH!\n",
        "\n",
        "\n",
        "print(\"looking for dataset in: \"+drive_path+'student-mat.csv')\n",
        "df = pandas.read_csv(drive_path+'student-mat.csv')\n",
        "df = df.sample(frac=1) # This line scrambles the order of the dataframe"
      ],
      "metadata": {
        "colab": {
          "base_uri": "https://localhost:8080/"
        },
        "id": "PBlbnI7RryBM",
        "outputId": "3ae26b74-e942-4acc-ef45-1844b85b500b"
      },
      "execution_count": null,
      "outputs": [
        {
          "output_type": "stream",
          "name": "stdout",
          "text": [
            "Drive already mounted at /content/gdrive; to attempt to forcibly remount, call drive.mount(\"/content/gdrive\", force_remount=True).\n",
            "looking for dataset in: /content/student-mat.csv\n"
          ]
        }
      ]
    },
    {
      "cell_type": "markdown",
      "metadata": {
        "id": "fvyOKDKEwpQI"
      },
      "source": [
        "Now that the data is loaded to your Colab notebook, you should be able to display the Pandas\n",
        "DataFrame `df` as a table:"
      ]
    },
    {
      "cell_type": "code",
      "source": [
        "df"
      ],
      "metadata": {
        "id": "b3251CyaCcJL",
        "colab": {
          "base_uri": "https://localhost:8080/",
          "height": 443
        },
        "outputId": "2d7d3088-a7b1-4339-bedf-496ee350dd78"
      },
      "execution_count": null,
      "outputs": [
        {
          "output_type": "execute_result",
          "data": {
            "text/plain": [
              "    school sex  age address famsize Pstatus  Medu  Fedu      Mjob      Fjob  \\\n",
              "242     GP   M   17       U     LE3       A     3     2   teacher  services   \n",
              "57      GP   F   18       U     LE3       T     1     1     other     other   \n",
              "302     GP   M   15       U     GT3       A     4     4     other  services   \n",
              "142     GP   F   15       U     GT3       T     4     4   teacher   teacher   \n",
              "105     MS   F   18       R     LE3       T     4     4     other     other   \n",
              "..     ...  ..  ...     ...     ...     ...   ...   ...       ...       ...   \n",
              "259     GP   F   18       R     GT3       T     1     1   at_home     other   \n",
              "165     GP   M   20       U     GT3       A     3     2  services     other   \n",
              "282     GP   M   16       U     GT3       T     3     3   at_home     other   \n",
              "112     GP   M   15       U     LE3       A     4     2    health    health   \n",
              "92      GP   F   19       U     GT3       T     1     1   at_home    health   \n",
              "\n",
              "     ... famrel freetime  goout  Dalc  Walc health absences  G1  G2  G3  \n",
              "242  ...      4        4      4     3     4      3       19  11   9  10  \n",
              "57   ...      4        4      3     1     1      3        2  11  11  11  \n",
              "302  ...      1        3      3     5     5      3        4  13  13  12  \n",
              "142  ...      4        3      2     1     1      5        0  16  16  15  \n",
              "105  ...      5        4      4     1     1      1        0  19  18  19  \n",
              "..   ...    ...      ...    ...   ...   ...    ...      ...  ..  ..  ..  \n",
              "259  ...      5        2      5     1     5      4        6   9   8  10  \n",
              "165  ...      5        5      3     1     1      5        0  17  18  18  \n",
              "282  ...      5        3      3     1     3      2        6   7  10  10  \n",
              "112  ...      5        5      5     3     4      5        6  11  11  10  \n",
              "92   ...      4        1      2     1     1      3       14  15  13  13  \n",
              "\n",
              "[340 rows x 33 columns]"
            ],
            "text/html": [
              "\n",
              "  <div id=\"df-516b9e12-848a-4a6f-806a-5f5e02b7df5b\" class=\"colab-df-container\">\n",
              "    <div>\n",
              "<style scoped>\n",
              "    .dataframe tbody tr th:only-of-type {\n",
              "        vertical-align: middle;\n",
              "    }\n",
              "\n",
              "    .dataframe tbody tr th {\n",
              "        vertical-align: top;\n",
              "    }\n",
              "\n",
              "    .dataframe thead th {\n",
              "        text-align: right;\n",
              "    }\n",
              "</style>\n",
              "<table border=\"1\" class=\"dataframe\">\n",
              "  <thead>\n",
              "    <tr style=\"text-align: right;\">\n",
              "      <th></th>\n",
              "      <th>school</th>\n",
              "      <th>sex</th>\n",
              "      <th>age</th>\n",
              "      <th>address</th>\n",
              "      <th>famsize</th>\n",
              "      <th>Pstatus</th>\n",
              "      <th>Medu</th>\n",
              "      <th>Fedu</th>\n",
              "      <th>Mjob</th>\n",
              "      <th>Fjob</th>\n",
              "      <th>...</th>\n",
              "      <th>famrel</th>\n",
              "      <th>freetime</th>\n",
              "      <th>goout</th>\n",
              "      <th>Dalc</th>\n",
              "      <th>Walc</th>\n",
              "      <th>health</th>\n",
              "      <th>absences</th>\n",
              "      <th>G1</th>\n",
              "      <th>G2</th>\n",
              "      <th>G3</th>\n",
              "    </tr>\n",
              "  </thead>\n",
              "  <tbody>\n",
              "    <tr>\n",
              "      <th>242</th>\n",
              "      <td>GP</td>\n",
              "      <td>M</td>\n",
              "      <td>17</td>\n",
              "      <td>U</td>\n",
              "      <td>LE3</td>\n",
              "      <td>A</td>\n",
              "      <td>3</td>\n",
              "      <td>2</td>\n",
              "      <td>teacher</td>\n",
              "      <td>services</td>\n",
              "      <td>...</td>\n",
              "      <td>4</td>\n",
              "      <td>4</td>\n",
              "      <td>4</td>\n",
              "      <td>3</td>\n",
              "      <td>4</td>\n",
              "      <td>3</td>\n",
              "      <td>19</td>\n",
              "      <td>11</td>\n",
              "      <td>9</td>\n",
              "      <td>10</td>\n",
              "    </tr>\n",
              "    <tr>\n",
              "      <th>57</th>\n",
              "      <td>GP</td>\n",
              "      <td>F</td>\n",
              "      <td>18</td>\n",
              "      <td>U</td>\n",
              "      <td>LE3</td>\n",
              "      <td>T</td>\n",
              "      <td>1</td>\n",
              "      <td>1</td>\n",
              "      <td>other</td>\n",
              "      <td>other</td>\n",
              "      <td>...</td>\n",
              "      <td>4</td>\n",
              "      <td>4</td>\n",
              "      <td>3</td>\n",
              "      <td>1</td>\n",
              "      <td>1</td>\n",
              "      <td>3</td>\n",
              "      <td>2</td>\n",
              "      <td>11</td>\n",
              "      <td>11</td>\n",
              "      <td>11</td>\n",
              "    </tr>\n",
              "    <tr>\n",
              "      <th>302</th>\n",
              "      <td>GP</td>\n",
              "      <td>M</td>\n",
              "      <td>15</td>\n",
              "      <td>U</td>\n",
              "      <td>GT3</td>\n",
              "      <td>A</td>\n",
              "      <td>4</td>\n",
              "      <td>4</td>\n",
              "      <td>other</td>\n",
              "      <td>services</td>\n",
              "      <td>...</td>\n",
              "      <td>1</td>\n",
              "      <td>3</td>\n",
              "      <td>3</td>\n",
              "      <td>5</td>\n",
              "      <td>5</td>\n",
              "      <td>3</td>\n",
              "      <td>4</td>\n",
              "      <td>13</td>\n",
              "      <td>13</td>\n",
              "      <td>12</td>\n",
              "    </tr>\n",
              "    <tr>\n",
              "      <th>142</th>\n",
              "      <td>GP</td>\n",
              "      <td>F</td>\n",
              "      <td>15</td>\n",
              "      <td>U</td>\n",
              "      <td>GT3</td>\n",
              "      <td>T</td>\n",
              "      <td>4</td>\n",
              "      <td>4</td>\n",
              "      <td>teacher</td>\n",
              "      <td>teacher</td>\n",
              "      <td>...</td>\n",
              "      <td>4</td>\n",
              "      <td>3</td>\n",
              "      <td>2</td>\n",
              "      <td>1</td>\n",
              "      <td>1</td>\n",
              "      <td>5</td>\n",
              "      <td>0</td>\n",
              "      <td>16</td>\n",
              "      <td>16</td>\n",
              "      <td>15</td>\n",
              "    </tr>\n",
              "    <tr>\n",
              "      <th>105</th>\n",
              "      <td>MS</td>\n",
              "      <td>F</td>\n",
              "      <td>18</td>\n",
              "      <td>R</td>\n",
              "      <td>LE3</td>\n",
              "      <td>T</td>\n",
              "      <td>4</td>\n",
              "      <td>4</td>\n",
              "      <td>other</td>\n",
              "      <td>other</td>\n",
              "      <td>...</td>\n",
              "      <td>5</td>\n",
              "      <td>4</td>\n",
              "      <td>4</td>\n",
              "      <td>1</td>\n",
              "      <td>1</td>\n",
              "      <td>1</td>\n",
              "      <td>0</td>\n",
              "      <td>19</td>\n",
              "      <td>18</td>\n",
              "      <td>19</td>\n",
              "    </tr>\n",
              "    <tr>\n",
              "      <th>...</th>\n",
              "      <td>...</td>\n",
              "      <td>...</td>\n",
              "      <td>...</td>\n",
              "      <td>...</td>\n",
              "      <td>...</td>\n",
              "      <td>...</td>\n",
              "      <td>...</td>\n",
              "      <td>...</td>\n",
              "      <td>...</td>\n",
              "      <td>...</td>\n",
              "      <td>...</td>\n",
              "      <td>...</td>\n",
              "      <td>...</td>\n",
              "      <td>...</td>\n",
              "      <td>...</td>\n",
              "      <td>...</td>\n",
              "      <td>...</td>\n",
              "      <td>...</td>\n",
              "      <td>...</td>\n",
              "      <td>...</td>\n",
              "      <td>...</td>\n",
              "    </tr>\n",
              "    <tr>\n",
              "      <th>259</th>\n",
              "      <td>GP</td>\n",
              "      <td>F</td>\n",
              "      <td>18</td>\n",
              "      <td>R</td>\n",
              "      <td>GT3</td>\n",
              "      <td>T</td>\n",
              "      <td>1</td>\n",
              "      <td>1</td>\n",
              "      <td>at_home</td>\n",
              "      <td>other</td>\n",
              "      <td>...</td>\n",
              "      <td>5</td>\n",
              "      <td>2</td>\n",
              "      <td>5</td>\n",
              "      <td>1</td>\n",
              "      <td>5</td>\n",
              "      <td>4</td>\n",
              "      <td>6</td>\n",
              "      <td>9</td>\n",
              "      <td>8</td>\n",
              "      <td>10</td>\n",
              "    </tr>\n",
              "    <tr>\n",
              "      <th>165</th>\n",
              "      <td>GP</td>\n",
              "      <td>M</td>\n",
              "      <td>20</td>\n",
              "      <td>U</td>\n",
              "      <td>GT3</td>\n",
              "      <td>A</td>\n",
              "      <td>3</td>\n",
              "      <td>2</td>\n",
              "      <td>services</td>\n",
              "      <td>other</td>\n",
              "      <td>...</td>\n",
              "      <td>5</td>\n",
              "      <td>5</td>\n",
              "      <td>3</td>\n",
              "      <td>1</td>\n",
              "      <td>1</td>\n",
              "      <td>5</td>\n",
              "      <td>0</td>\n",
              "      <td>17</td>\n",
              "      <td>18</td>\n",
              "      <td>18</td>\n",
              "    </tr>\n",
              "    <tr>\n",
              "      <th>282</th>\n",
              "      <td>GP</td>\n",
              "      <td>M</td>\n",
              "      <td>16</td>\n",
              "      <td>U</td>\n",
              "      <td>GT3</td>\n",
              "      <td>T</td>\n",
              "      <td>3</td>\n",
              "      <td>3</td>\n",
              "      <td>at_home</td>\n",
              "      <td>other</td>\n",
              "      <td>...</td>\n",
              "      <td>5</td>\n",
              "      <td>3</td>\n",
              "      <td>3</td>\n",
              "      <td>1</td>\n",
              "      <td>3</td>\n",
              "      <td>2</td>\n",
              "      <td>6</td>\n",
              "      <td>7</td>\n",
              "      <td>10</td>\n",
              "      <td>10</td>\n",
              "    </tr>\n",
              "    <tr>\n",
              "      <th>112</th>\n",
              "      <td>GP</td>\n",
              "      <td>M</td>\n",
              "      <td>15</td>\n",
              "      <td>U</td>\n",
              "      <td>LE3</td>\n",
              "      <td>A</td>\n",
              "      <td>4</td>\n",
              "      <td>2</td>\n",
              "      <td>health</td>\n",
              "      <td>health</td>\n",
              "      <td>...</td>\n",
              "      <td>5</td>\n",
              "      <td>5</td>\n",
              "      <td>5</td>\n",
              "      <td>3</td>\n",
              "      <td>4</td>\n",
              "      <td>5</td>\n",
              "      <td>6</td>\n",
              "      <td>11</td>\n",
              "      <td>11</td>\n",
              "      <td>10</td>\n",
              "    </tr>\n",
              "    <tr>\n",
              "      <th>92</th>\n",
              "      <td>GP</td>\n",
              "      <td>F</td>\n",
              "      <td>19</td>\n",
              "      <td>U</td>\n",
              "      <td>GT3</td>\n",
              "      <td>T</td>\n",
              "      <td>1</td>\n",
              "      <td>1</td>\n",
              "      <td>at_home</td>\n",
              "      <td>health</td>\n",
              "      <td>...</td>\n",
              "      <td>4</td>\n",
              "      <td>1</td>\n",
              "      <td>2</td>\n",
              "      <td>1</td>\n",
              "      <td>1</td>\n",
              "      <td>3</td>\n",
              "      <td>14</td>\n",
              "      <td>15</td>\n",
              "      <td>13</td>\n",
              "      <td>13</td>\n",
              "    </tr>\n",
              "  </tbody>\n",
              "</table>\n",
              "<p>340 rows × 33 columns</p>\n",
              "</div>\n",
              "    <div class=\"colab-df-buttons\">\n",
              "\n",
              "  <div class=\"colab-df-container\">\n",
              "    <button class=\"colab-df-convert\" onclick=\"convertToInteractive('df-516b9e12-848a-4a6f-806a-5f5e02b7df5b')\"\n",
              "            title=\"Convert this dataframe to an interactive table.\"\n",
              "            style=\"display:none;\">\n",
              "\n",
              "  <svg xmlns=\"http://www.w3.org/2000/svg\" height=\"24px\" viewBox=\"0 -960 960 960\">\n",
              "    <path d=\"M120-120v-720h720v720H120Zm60-500h600v-160H180v160Zm220 220h160v-160H400v160Zm0 220h160v-160H400v160ZM180-400h160v-160H180v160Zm440 0h160v-160H620v160ZM180-180h160v-160H180v160Zm440 0h160v-160H620v160Z\"/>\n",
              "  </svg>\n",
              "    </button>\n",
              "\n",
              "  <style>\n",
              "    .colab-df-container {\n",
              "      display:flex;\n",
              "      gap: 12px;\n",
              "    }\n",
              "\n",
              "    .colab-df-convert {\n",
              "      background-color: #E8F0FE;\n",
              "      border: none;\n",
              "      border-radius: 50%;\n",
              "      cursor: pointer;\n",
              "      display: none;\n",
              "      fill: #1967D2;\n",
              "      height: 32px;\n",
              "      padding: 0 0 0 0;\n",
              "      width: 32px;\n",
              "    }\n",
              "\n",
              "    .colab-df-convert:hover {\n",
              "      background-color: #E2EBFA;\n",
              "      box-shadow: 0px 1px 2px rgba(60, 64, 67, 0.3), 0px 1px 3px 1px rgba(60, 64, 67, 0.15);\n",
              "      fill: #174EA6;\n",
              "    }\n",
              "\n",
              "    .colab-df-buttons div {\n",
              "      margin-bottom: 4px;\n",
              "    }\n",
              "\n",
              "    [theme=dark] .colab-df-convert {\n",
              "      background-color: #3B4455;\n",
              "      fill: #D2E3FC;\n",
              "    }\n",
              "\n",
              "    [theme=dark] .colab-df-convert:hover {\n",
              "      background-color: #434B5C;\n",
              "      box-shadow: 0px 1px 3px 1px rgba(0, 0, 0, 0.15);\n",
              "      filter: drop-shadow(0px 1px 2px rgba(0, 0, 0, 0.3));\n",
              "      fill: #FFFFFF;\n",
              "    }\n",
              "  </style>\n",
              "\n",
              "    <script>\n",
              "      const buttonEl =\n",
              "        document.querySelector('#df-516b9e12-848a-4a6f-806a-5f5e02b7df5b button.colab-df-convert');\n",
              "      buttonEl.style.display =\n",
              "        google.colab.kernel.accessAllowed ? 'block' : 'none';\n",
              "\n",
              "      async function convertToInteractive(key) {\n",
              "        const element = document.querySelector('#df-516b9e12-848a-4a6f-806a-5f5e02b7df5b');\n",
              "        const dataTable =\n",
              "          await google.colab.kernel.invokeFunction('convertToInteractive',\n",
              "                                                    [key], {});\n",
              "        if (!dataTable) return;\n",
              "\n",
              "        const docLinkHtml = 'Like what you see? Visit the ' +\n",
              "          '<a target=\"_blank\" href=https://colab.research.google.com/notebooks/data_table.ipynb>data table notebook</a>'\n",
              "          + ' to learn more about interactive tables.';\n",
              "        element.innerHTML = '';\n",
              "        dataTable['output_type'] = 'display_data';\n",
              "        await google.colab.output.renderOutput(dataTable, element);\n",
              "        const docLink = document.createElement('div');\n",
              "        docLink.innerHTML = docLinkHtml;\n",
              "        element.appendChild(docLink);\n",
              "      }\n",
              "    </script>\n",
              "  </div>\n",
              "\n",
              "\n",
              "<div id=\"df-b0692845-b4c8-4d12-a427-a1450e84d07a\">\n",
              "  <button class=\"colab-df-quickchart\" onclick=\"quickchart('df-b0692845-b4c8-4d12-a427-a1450e84d07a')\"\n",
              "            title=\"Suggest charts\"\n",
              "            style=\"display:none;\">\n",
              "\n",
              "<svg xmlns=\"http://www.w3.org/2000/svg\" height=\"24px\"viewBox=\"0 0 24 24\"\n",
              "     width=\"24px\">\n",
              "    <g>\n",
              "        <path d=\"M19 3H5c-1.1 0-2 .9-2 2v14c0 1.1.9 2 2 2h14c1.1 0 2-.9 2-2V5c0-1.1-.9-2-2-2zM9 17H7v-7h2v7zm4 0h-2V7h2v10zm4 0h-2v-4h2v4z\"/>\n",
              "    </g>\n",
              "</svg>\n",
              "  </button>\n",
              "\n",
              "<style>\n",
              "  .colab-df-quickchart {\n",
              "      --bg-color: #E8F0FE;\n",
              "      --fill-color: #1967D2;\n",
              "      --hover-bg-color: #E2EBFA;\n",
              "      --hover-fill-color: #174EA6;\n",
              "      --disabled-fill-color: #AAA;\n",
              "      --disabled-bg-color: #DDD;\n",
              "  }\n",
              "\n",
              "  [theme=dark] .colab-df-quickchart {\n",
              "      --bg-color: #3B4455;\n",
              "      --fill-color: #D2E3FC;\n",
              "      --hover-bg-color: #434B5C;\n",
              "      --hover-fill-color: #FFFFFF;\n",
              "      --disabled-bg-color: #3B4455;\n",
              "      --disabled-fill-color: #666;\n",
              "  }\n",
              "\n",
              "  .colab-df-quickchart {\n",
              "    background-color: var(--bg-color);\n",
              "    border: none;\n",
              "    border-radius: 50%;\n",
              "    cursor: pointer;\n",
              "    display: none;\n",
              "    fill: var(--fill-color);\n",
              "    height: 32px;\n",
              "    padding: 0;\n",
              "    width: 32px;\n",
              "  }\n",
              "\n",
              "  .colab-df-quickchart:hover {\n",
              "    background-color: var(--hover-bg-color);\n",
              "    box-shadow: 0 1px 2px rgba(60, 64, 67, 0.3), 0 1px 3px 1px rgba(60, 64, 67, 0.15);\n",
              "    fill: var(--button-hover-fill-color);\n",
              "  }\n",
              "\n",
              "  .colab-df-quickchart-complete:disabled,\n",
              "  .colab-df-quickchart-complete:disabled:hover {\n",
              "    background-color: var(--disabled-bg-color);\n",
              "    fill: var(--disabled-fill-color);\n",
              "    box-shadow: none;\n",
              "  }\n",
              "\n",
              "  .colab-df-spinner {\n",
              "    border: 2px solid var(--fill-color);\n",
              "    border-color: transparent;\n",
              "    border-bottom-color: var(--fill-color);\n",
              "    animation:\n",
              "      spin 1s steps(1) infinite;\n",
              "  }\n",
              "\n",
              "  @keyframes spin {\n",
              "    0% {\n",
              "      border-color: transparent;\n",
              "      border-bottom-color: var(--fill-color);\n",
              "      border-left-color: var(--fill-color);\n",
              "    }\n",
              "    20% {\n",
              "      border-color: transparent;\n",
              "      border-left-color: var(--fill-color);\n",
              "      border-top-color: var(--fill-color);\n",
              "    }\n",
              "    30% {\n",
              "      border-color: transparent;\n",
              "      border-left-color: var(--fill-color);\n",
              "      border-top-color: var(--fill-color);\n",
              "      border-right-color: var(--fill-color);\n",
              "    }\n",
              "    40% {\n",
              "      border-color: transparent;\n",
              "      border-right-color: var(--fill-color);\n",
              "      border-top-color: var(--fill-color);\n",
              "    }\n",
              "    60% {\n",
              "      border-color: transparent;\n",
              "      border-right-color: var(--fill-color);\n",
              "    }\n",
              "    80% {\n",
              "      border-color: transparent;\n",
              "      border-right-color: var(--fill-color);\n",
              "      border-bottom-color: var(--fill-color);\n",
              "    }\n",
              "    90% {\n",
              "      border-color: transparent;\n",
              "      border-bottom-color: var(--fill-color);\n",
              "    }\n",
              "  }\n",
              "</style>\n",
              "\n",
              "  <script>\n",
              "    async function quickchart(key) {\n",
              "      const quickchartButtonEl =\n",
              "        document.querySelector('#' + key + ' button');\n",
              "      quickchartButtonEl.disabled = true;  // To prevent multiple clicks.\n",
              "      quickchartButtonEl.classList.add('colab-df-spinner');\n",
              "      try {\n",
              "        const charts = await google.colab.kernel.invokeFunction(\n",
              "            'suggestCharts', [key], {});\n",
              "      } catch (error) {\n",
              "        console.error('Error during call to suggestCharts:', error);\n",
              "      }\n",
              "      quickchartButtonEl.classList.remove('colab-df-spinner');\n",
              "      quickchartButtonEl.classList.add('colab-df-quickchart-complete');\n",
              "    }\n",
              "    (() => {\n",
              "      let quickchartButtonEl =\n",
              "        document.querySelector('#df-b0692845-b4c8-4d12-a427-a1450e84d07a button');\n",
              "      quickchartButtonEl.style.display =\n",
              "        google.colab.kernel.accessAllowed ? 'block' : 'none';\n",
              "    })();\n",
              "  </script>\n",
              "</div>\n",
              "    </div>\n",
              "  </div>\n"
            ],
            "application/vnd.google.colaboratory.intrinsic+json": {
              "type": "dataframe",
              "variable_name": "df"
            }
          },
          "metadata": {},
          "execution_count": 6
        }
      ]
    },
    {
      "cell_type": "markdown",
      "source": [
        "Notice that the data consists of multiple types. There are numeric columns such as 'age','freetime' and 'G3' but there are also a few categorical columns for example 'school','address','Mjob' etc. Since we want to use a numeric estimator we need all our data to be numeric. We can use indicators to translate the categories into numeric values. In the pandas library it is done using the [get_dummies](https://pandas.pydata.org/docs/reference/api/pandas.get_dummies.html) function.\n",
        "\n",
        "Notice that in this assignment we will not be using any multiple category columns (to simplify the task a bit) so we remove the columns 'Mjob', 'Fjob', 'reason' and 'guardian'."
      ],
      "metadata": {
        "id": "rQU9gdilCdT_"
      }
    },
    {
      "cell_type": "code",
      "source": [
        "df_no_multi_categorical = df.drop([\"Mjob\",\"Fjob\",\"reason\",\"guardian\"],axis=1)\n",
        "df_numerical = pandas.get_dummies(df_no_multi_categorical, drop_first=True)"
      ],
      "metadata": {
        "id": "ZMM1dupxBrCy"
      },
      "execution_count": null,
      "outputs": []
    },
    {
      "cell_type": "markdown",
      "source": [
        "Notice how each categorical column has been converted to a binary numerical value."
      ],
      "metadata": {
        "id": "tSL0DuONMO-7"
      }
    },
    {
      "cell_type": "code",
      "source": [
        "df_numerical"
      ],
      "metadata": {
        "id": "9u40fEahZaBa",
        "colab": {
          "base_uri": "https://localhost:8080/",
          "height": 443
        },
        "outputId": "58cd5c5a-2504-482c-9b34-b996e2d44216"
      },
      "execution_count": null,
      "outputs": [
        {
          "output_type": "execute_result",
          "data": {
            "text/plain": [
              "     age  Medu  Fedu  traveltime  studytime  failures  famrel  freetime  \\\n",
              "242   17     3     2           1          1         1       4         4   \n",
              "57    18     1     1           2          2         0       4         4   \n",
              "302   15     4     4           1          4         0       1         3   \n",
              "142   15     4     4           2          1         0       4         3   \n",
              "105   18     4     4           2          3         0       5         4   \n",
              "..   ...   ...   ...         ...        ...       ...     ...       ...   \n",
              "259   18     1     1           3          1         3       5         2   \n",
              "165   20     3     2           1          1         0       5         5   \n",
              "282   16     3     3           3          2         0       5         3   \n",
              "112   15     4     2           2          1         1       5         5   \n",
              "92    19     1     1           1          3         2       4         1   \n",
              "\n",
              "     goout  Dalc  ...  famsize_LE3  Pstatus_T  schoolsup_yes  famsup_yes  \\\n",
              "242      4     3  ...            1          0              0           0   \n",
              "57       3     1  ...            1          1              0           1   \n",
              "302      3     5  ...            0          0              0           1   \n",
              "142      2     1  ...            0          1              0           0   \n",
              "105      4     1  ...            1          1              0           0   \n",
              "..     ...   ...  ...          ...        ...            ...         ...   \n",
              "259      5     1  ...            0          1              0           1   \n",
              "165      3     1  ...            0          0              0           0   \n",
              "282      3     1  ...            0          1              1           1   \n",
              "112      5     3  ...            1          0              0           0   \n",
              "92       2     1  ...            0          1              0           0   \n",
              "\n",
              "     paid_yes  activities_yes  nursery_yes  higher_yes  internet_yes  \\\n",
              "242         0               0            1           1             1   \n",
              "57          1               0            0           1             0   \n",
              "302         0               1            0           1             1   \n",
              "142         0               1            1           1             1   \n",
              "105         0               0            1           1             1   \n",
              "..        ...             ...          ...         ...           ...   \n",
              "259         0               1            0           1             0   \n",
              "165         0               1            1           1             0   \n",
              "282         0               0            0           1             1   \n",
              "112         0               0            1           1             0   \n",
              "92          0               0            0           1             1   \n",
              "\n",
              "     romantic_yes  \n",
              "242             0  \n",
              "57              0  \n",
              "302             1  \n",
              "142             0  \n",
              "105             0  \n",
              "..            ...  \n",
              "259             0  \n",
              "165             0  \n",
              "282             0  \n",
              "112             0  \n",
              "92              1  \n",
              "\n",
              "[340 rows x 29 columns]"
            ],
            "text/html": [
              "\n",
              "  <div id=\"df-df254df6-f37d-4fe6-a274-ba5872710f01\" class=\"colab-df-container\">\n",
              "    <div>\n",
              "<style scoped>\n",
              "    .dataframe tbody tr th:only-of-type {\n",
              "        vertical-align: middle;\n",
              "    }\n",
              "\n",
              "    .dataframe tbody tr th {\n",
              "        vertical-align: top;\n",
              "    }\n",
              "\n",
              "    .dataframe thead th {\n",
              "        text-align: right;\n",
              "    }\n",
              "</style>\n",
              "<table border=\"1\" class=\"dataframe\">\n",
              "  <thead>\n",
              "    <tr style=\"text-align: right;\">\n",
              "      <th></th>\n",
              "      <th>age</th>\n",
              "      <th>Medu</th>\n",
              "      <th>Fedu</th>\n",
              "      <th>traveltime</th>\n",
              "      <th>studytime</th>\n",
              "      <th>failures</th>\n",
              "      <th>famrel</th>\n",
              "      <th>freetime</th>\n",
              "      <th>goout</th>\n",
              "      <th>Dalc</th>\n",
              "      <th>...</th>\n",
              "      <th>famsize_LE3</th>\n",
              "      <th>Pstatus_T</th>\n",
              "      <th>schoolsup_yes</th>\n",
              "      <th>famsup_yes</th>\n",
              "      <th>paid_yes</th>\n",
              "      <th>activities_yes</th>\n",
              "      <th>nursery_yes</th>\n",
              "      <th>higher_yes</th>\n",
              "      <th>internet_yes</th>\n",
              "      <th>romantic_yes</th>\n",
              "    </tr>\n",
              "  </thead>\n",
              "  <tbody>\n",
              "    <tr>\n",
              "      <th>242</th>\n",
              "      <td>17</td>\n",
              "      <td>3</td>\n",
              "      <td>2</td>\n",
              "      <td>1</td>\n",
              "      <td>1</td>\n",
              "      <td>1</td>\n",
              "      <td>4</td>\n",
              "      <td>4</td>\n",
              "      <td>4</td>\n",
              "      <td>3</td>\n",
              "      <td>...</td>\n",
              "      <td>1</td>\n",
              "      <td>0</td>\n",
              "      <td>0</td>\n",
              "      <td>0</td>\n",
              "      <td>0</td>\n",
              "      <td>0</td>\n",
              "      <td>1</td>\n",
              "      <td>1</td>\n",
              "      <td>1</td>\n",
              "      <td>0</td>\n",
              "    </tr>\n",
              "    <tr>\n",
              "      <th>57</th>\n",
              "      <td>18</td>\n",
              "      <td>1</td>\n",
              "      <td>1</td>\n",
              "      <td>2</td>\n",
              "      <td>2</td>\n",
              "      <td>0</td>\n",
              "      <td>4</td>\n",
              "      <td>4</td>\n",
              "      <td>3</td>\n",
              "      <td>1</td>\n",
              "      <td>...</td>\n",
              "      <td>1</td>\n",
              "      <td>1</td>\n",
              "      <td>0</td>\n",
              "      <td>1</td>\n",
              "      <td>1</td>\n",
              "      <td>0</td>\n",
              "      <td>0</td>\n",
              "      <td>1</td>\n",
              "      <td>0</td>\n",
              "      <td>0</td>\n",
              "    </tr>\n",
              "    <tr>\n",
              "      <th>302</th>\n",
              "      <td>15</td>\n",
              "      <td>4</td>\n",
              "      <td>4</td>\n",
              "      <td>1</td>\n",
              "      <td>4</td>\n",
              "      <td>0</td>\n",
              "      <td>1</td>\n",
              "      <td>3</td>\n",
              "      <td>3</td>\n",
              "      <td>5</td>\n",
              "      <td>...</td>\n",
              "      <td>0</td>\n",
              "      <td>0</td>\n",
              "      <td>0</td>\n",
              "      <td>1</td>\n",
              "      <td>0</td>\n",
              "      <td>1</td>\n",
              "      <td>0</td>\n",
              "      <td>1</td>\n",
              "      <td>1</td>\n",
              "      <td>1</td>\n",
              "    </tr>\n",
              "    <tr>\n",
              "      <th>142</th>\n",
              "      <td>15</td>\n",
              "      <td>4</td>\n",
              "      <td>4</td>\n",
              "      <td>2</td>\n",
              "      <td>1</td>\n",
              "      <td>0</td>\n",
              "      <td>4</td>\n",
              "      <td>3</td>\n",
              "      <td>2</td>\n",
              "      <td>1</td>\n",
              "      <td>...</td>\n",
              "      <td>0</td>\n",
              "      <td>1</td>\n",
              "      <td>0</td>\n",
              "      <td>0</td>\n",
              "      <td>0</td>\n",
              "      <td>1</td>\n",
              "      <td>1</td>\n",
              "      <td>1</td>\n",
              "      <td>1</td>\n",
              "      <td>0</td>\n",
              "    </tr>\n",
              "    <tr>\n",
              "      <th>105</th>\n",
              "      <td>18</td>\n",
              "      <td>4</td>\n",
              "      <td>4</td>\n",
              "      <td>2</td>\n",
              "      <td>3</td>\n",
              "      <td>0</td>\n",
              "      <td>5</td>\n",
              "      <td>4</td>\n",
              "      <td>4</td>\n",
              "      <td>1</td>\n",
              "      <td>...</td>\n",
              "      <td>1</td>\n",
              "      <td>1</td>\n",
              "      <td>0</td>\n",
              "      <td>0</td>\n",
              "      <td>0</td>\n",
              "      <td>0</td>\n",
              "      <td>1</td>\n",
              "      <td>1</td>\n",
              "      <td>1</td>\n",
              "      <td>0</td>\n",
              "    </tr>\n",
              "    <tr>\n",
              "      <th>...</th>\n",
              "      <td>...</td>\n",
              "      <td>...</td>\n",
              "      <td>...</td>\n",
              "      <td>...</td>\n",
              "      <td>...</td>\n",
              "      <td>...</td>\n",
              "      <td>...</td>\n",
              "      <td>...</td>\n",
              "      <td>...</td>\n",
              "      <td>...</td>\n",
              "      <td>...</td>\n",
              "      <td>...</td>\n",
              "      <td>...</td>\n",
              "      <td>...</td>\n",
              "      <td>...</td>\n",
              "      <td>...</td>\n",
              "      <td>...</td>\n",
              "      <td>...</td>\n",
              "      <td>...</td>\n",
              "      <td>...</td>\n",
              "      <td>...</td>\n",
              "    </tr>\n",
              "    <tr>\n",
              "      <th>259</th>\n",
              "      <td>18</td>\n",
              "      <td>1</td>\n",
              "      <td>1</td>\n",
              "      <td>3</td>\n",
              "      <td>1</td>\n",
              "      <td>3</td>\n",
              "      <td>5</td>\n",
              "      <td>2</td>\n",
              "      <td>5</td>\n",
              "      <td>1</td>\n",
              "      <td>...</td>\n",
              "      <td>0</td>\n",
              "      <td>1</td>\n",
              "      <td>0</td>\n",
              "      <td>1</td>\n",
              "      <td>0</td>\n",
              "      <td>1</td>\n",
              "      <td>0</td>\n",
              "      <td>1</td>\n",
              "      <td>0</td>\n",
              "      <td>0</td>\n",
              "    </tr>\n",
              "    <tr>\n",
              "      <th>165</th>\n",
              "      <td>20</td>\n",
              "      <td>3</td>\n",
              "      <td>2</td>\n",
              "      <td>1</td>\n",
              "      <td>1</td>\n",
              "      <td>0</td>\n",
              "      <td>5</td>\n",
              "      <td>5</td>\n",
              "      <td>3</td>\n",
              "      <td>1</td>\n",
              "      <td>...</td>\n",
              "      <td>0</td>\n",
              "      <td>0</td>\n",
              "      <td>0</td>\n",
              "      <td>0</td>\n",
              "      <td>0</td>\n",
              "      <td>1</td>\n",
              "      <td>1</td>\n",
              "      <td>1</td>\n",
              "      <td>0</td>\n",
              "      <td>0</td>\n",
              "    </tr>\n",
              "    <tr>\n",
              "      <th>282</th>\n",
              "      <td>16</td>\n",
              "      <td>3</td>\n",
              "      <td>3</td>\n",
              "      <td>3</td>\n",
              "      <td>2</td>\n",
              "      <td>0</td>\n",
              "      <td>5</td>\n",
              "      <td>3</td>\n",
              "      <td>3</td>\n",
              "      <td>1</td>\n",
              "      <td>...</td>\n",
              "      <td>0</td>\n",
              "      <td>1</td>\n",
              "      <td>1</td>\n",
              "      <td>1</td>\n",
              "      <td>0</td>\n",
              "      <td>0</td>\n",
              "      <td>0</td>\n",
              "      <td>1</td>\n",
              "      <td>1</td>\n",
              "      <td>0</td>\n",
              "    </tr>\n",
              "    <tr>\n",
              "      <th>112</th>\n",
              "      <td>15</td>\n",
              "      <td>4</td>\n",
              "      <td>2</td>\n",
              "      <td>2</td>\n",
              "      <td>1</td>\n",
              "      <td>1</td>\n",
              "      <td>5</td>\n",
              "      <td>5</td>\n",
              "      <td>5</td>\n",
              "      <td>3</td>\n",
              "      <td>...</td>\n",
              "      <td>1</td>\n",
              "      <td>0</td>\n",
              "      <td>0</td>\n",
              "      <td>0</td>\n",
              "      <td>0</td>\n",
              "      <td>0</td>\n",
              "      <td>1</td>\n",
              "      <td>1</td>\n",
              "      <td>0</td>\n",
              "      <td>0</td>\n",
              "    </tr>\n",
              "    <tr>\n",
              "      <th>92</th>\n",
              "      <td>19</td>\n",
              "      <td>1</td>\n",
              "      <td>1</td>\n",
              "      <td>1</td>\n",
              "      <td>3</td>\n",
              "      <td>2</td>\n",
              "      <td>4</td>\n",
              "      <td>1</td>\n",
              "      <td>2</td>\n",
              "      <td>1</td>\n",
              "      <td>...</td>\n",
              "      <td>0</td>\n",
              "      <td>1</td>\n",
              "      <td>0</td>\n",
              "      <td>0</td>\n",
              "      <td>0</td>\n",
              "      <td>0</td>\n",
              "      <td>0</td>\n",
              "      <td>1</td>\n",
              "      <td>1</td>\n",
              "      <td>1</td>\n",
              "    </tr>\n",
              "  </tbody>\n",
              "</table>\n",
              "<p>340 rows × 29 columns</p>\n",
              "</div>\n",
              "    <div class=\"colab-df-buttons\">\n",
              "\n",
              "  <div class=\"colab-df-container\">\n",
              "    <button class=\"colab-df-convert\" onclick=\"convertToInteractive('df-df254df6-f37d-4fe6-a274-ba5872710f01')\"\n",
              "            title=\"Convert this dataframe to an interactive table.\"\n",
              "            style=\"display:none;\">\n",
              "\n",
              "  <svg xmlns=\"http://www.w3.org/2000/svg\" height=\"24px\" viewBox=\"0 -960 960 960\">\n",
              "    <path d=\"M120-120v-720h720v720H120Zm60-500h600v-160H180v160Zm220 220h160v-160H400v160Zm0 220h160v-160H400v160ZM180-400h160v-160H180v160Zm440 0h160v-160H620v160ZM180-180h160v-160H180v160Zm440 0h160v-160H620v160Z\"/>\n",
              "  </svg>\n",
              "    </button>\n",
              "\n",
              "  <style>\n",
              "    .colab-df-container {\n",
              "      display:flex;\n",
              "      gap: 12px;\n",
              "    }\n",
              "\n",
              "    .colab-df-convert {\n",
              "      background-color: #E8F0FE;\n",
              "      border: none;\n",
              "      border-radius: 50%;\n",
              "      cursor: pointer;\n",
              "      display: none;\n",
              "      fill: #1967D2;\n",
              "      height: 32px;\n",
              "      padding: 0 0 0 0;\n",
              "      width: 32px;\n",
              "    }\n",
              "\n",
              "    .colab-df-convert:hover {\n",
              "      background-color: #E2EBFA;\n",
              "      box-shadow: 0px 1px 2px rgba(60, 64, 67, 0.3), 0px 1px 3px 1px rgba(60, 64, 67, 0.15);\n",
              "      fill: #174EA6;\n",
              "    }\n",
              "\n",
              "    .colab-df-buttons div {\n",
              "      margin-bottom: 4px;\n",
              "    }\n",
              "\n",
              "    [theme=dark] .colab-df-convert {\n",
              "      background-color: #3B4455;\n",
              "      fill: #D2E3FC;\n",
              "    }\n",
              "\n",
              "    [theme=dark] .colab-df-convert:hover {\n",
              "      background-color: #434B5C;\n",
              "      box-shadow: 0px 1px 3px 1px rgba(0, 0, 0, 0.15);\n",
              "      filter: drop-shadow(0px 1px 2px rgba(0, 0, 0, 0.3));\n",
              "      fill: #FFFFFF;\n",
              "    }\n",
              "  </style>\n",
              "\n",
              "    <script>\n",
              "      const buttonEl =\n",
              "        document.querySelector('#df-df254df6-f37d-4fe6-a274-ba5872710f01 button.colab-df-convert');\n",
              "      buttonEl.style.display =\n",
              "        google.colab.kernel.accessAllowed ? 'block' : 'none';\n",
              "\n",
              "      async function convertToInteractive(key) {\n",
              "        const element = document.querySelector('#df-df254df6-f37d-4fe6-a274-ba5872710f01');\n",
              "        const dataTable =\n",
              "          await google.colab.kernel.invokeFunction('convertToInteractive',\n",
              "                                                    [key], {});\n",
              "        if (!dataTable) return;\n",
              "\n",
              "        const docLinkHtml = 'Like what you see? Visit the ' +\n",
              "          '<a target=\"_blank\" href=https://colab.research.google.com/notebooks/data_table.ipynb>data table notebook</a>'\n",
              "          + ' to learn more about interactive tables.';\n",
              "        element.innerHTML = '';\n",
              "        dataTable['output_type'] = 'display_data';\n",
              "        await google.colab.output.renderOutput(dataTable, element);\n",
              "        const docLink = document.createElement('div');\n",
              "        docLink.innerHTML = docLinkHtml;\n",
              "        element.appendChild(docLink);\n",
              "      }\n",
              "    </script>\n",
              "  </div>\n",
              "\n",
              "\n",
              "<div id=\"df-e48795d4-156b-4ea3-b9bf-09b20e2a9b74\">\n",
              "  <button class=\"colab-df-quickchart\" onclick=\"quickchart('df-e48795d4-156b-4ea3-b9bf-09b20e2a9b74')\"\n",
              "            title=\"Suggest charts\"\n",
              "            style=\"display:none;\">\n",
              "\n",
              "<svg xmlns=\"http://www.w3.org/2000/svg\" height=\"24px\"viewBox=\"0 0 24 24\"\n",
              "     width=\"24px\">\n",
              "    <g>\n",
              "        <path d=\"M19 3H5c-1.1 0-2 .9-2 2v14c0 1.1.9 2 2 2h14c1.1 0 2-.9 2-2V5c0-1.1-.9-2-2-2zM9 17H7v-7h2v7zm4 0h-2V7h2v10zm4 0h-2v-4h2v4z\"/>\n",
              "    </g>\n",
              "</svg>\n",
              "  </button>\n",
              "\n",
              "<style>\n",
              "  .colab-df-quickchart {\n",
              "      --bg-color: #E8F0FE;\n",
              "      --fill-color: #1967D2;\n",
              "      --hover-bg-color: #E2EBFA;\n",
              "      --hover-fill-color: #174EA6;\n",
              "      --disabled-fill-color: #AAA;\n",
              "      --disabled-bg-color: #DDD;\n",
              "  }\n",
              "\n",
              "  [theme=dark] .colab-df-quickchart {\n",
              "      --bg-color: #3B4455;\n",
              "      --fill-color: #D2E3FC;\n",
              "      --hover-bg-color: #434B5C;\n",
              "      --hover-fill-color: #FFFFFF;\n",
              "      --disabled-bg-color: #3B4455;\n",
              "      --disabled-fill-color: #666;\n",
              "  }\n",
              "\n",
              "  .colab-df-quickchart {\n",
              "    background-color: var(--bg-color);\n",
              "    border: none;\n",
              "    border-radius: 50%;\n",
              "    cursor: pointer;\n",
              "    display: none;\n",
              "    fill: var(--fill-color);\n",
              "    height: 32px;\n",
              "    padding: 0;\n",
              "    width: 32px;\n",
              "  }\n",
              "\n",
              "  .colab-df-quickchart:hover {\n",
              "    background-color: var(--hover-bg-color);\n",
              "    box-shadow: 0 1px 2px rgba(60, 64, 67, 0.3), 0 1px 3px 1px rgba(60, 64, 67, 0.15);\n",
              "    fill: var(--button-hover-fill-color);\n",
              "  }\n",
              "\n",
              "  .colab-df-quickchart-complete:disabled,\n",
              "  .colab-df-quickchart-complete:disabled:hover {\n",
              "    background-color: var(--disabled-bg-color);\n",
              "    fill: var(--disabled-fill-color);\n",
              "    box-shadow: none;\n",
              "  }\n",
              "\n",
              "  .colab-df-spinner {\n",
              "    border: 2px solid var(--fill-color);\n",
              "    border-color: transparent;\n",
              "    border-bottom-color: var(--fill-color);\n",
              "    animation:\n",
              "      spin 1s steps(1) infinite;\n",
              "  }\n",
              "\n",
              "  @keyframes spin {\n",
              "    0% {\n",
              "      border-color: transparent;\n",
              "      border-bottom-color: var(--fill-color);\n",
              "      border-left-color: var(--fill-color);\n",
              "    }\n",
              "    20% {\n",
              "      border-color: transparent;\n",
              "      border-left-color: var(--fill-color);\n",
              "      border-top-color: var(--fill-color);\n",
              "    }\n",
              "    30% {\n",
              "      border-color: transparent;\n",
              "      border-left-color: var(--fill-color);\n",
              "      border-top-color: var(--fill-color);\n",
              "      border-right-color: var(--fill-color);\n",
              "    }\n",
              "    40% {\n",
              "      border-color: transparent;\n",
              "      border-right-color: var(--fill-color);\n",
              "      border-top-color: var(--fill-color);\n",
              "    }\n",
              "    60% {\n",
              "      border-color: transparent;\n",
              "      border-right-color: var(--fill-color);\n",
              "    }\n",
              "    80% {\n",
              "      border-color: transparent;\n",
              "      border-right-color: var(--fill-color);\n",
              "      border-bottom-color: var(--fill-color);\n",
              "    }\n",
              "    90% {\n",
              "      border-color: transparent;\n",
              "      border-bottom-color: var(--fill-color);\n",
              "    }\n",
              "  }\n",
              "</style>\n",
              "\n",
              "  <script>\n",
              "    async function quickchart(key) {\n",
              "      const quickchartButtonEl =\n",
              "        document.querySelector('#' + key + ' button');\n",
              "      quickchartButtonEl.disabled = true;  // To prevent multiple clicks.\n",
              "      quickchartButtonEl.classList.add('colab-df-spinner');\n",
              "      try {\n",
              "        const charts = await google.colab.kernel.invokeFunction(\n",
              "            'suggestCharts', [key], {});\n",
              "      } catch (error) {\n",
              "        console.error('Error during call to suggestCharts:', error);\n",
              "      }\n",
              "      quickchartButtonEl.classList.remove('colab-df-spinner');\n",
              "      quickchartButtonEl.classList.add('colab-df-quickchart-complete');\n",
              "    }\n",
              "    (() => {\n",
              "      let quickchartButtonEl =\n",
              "        document.querySelector('#df-e48795d4-156b-4ea3-b9bf-09b20e2a9b74 button');\n",
              "      quickchartButtonEl.style.display =\n",
              "        google.colab.kernel.accessAllowed ? 'block' : 'none';\n",
              "    })();\n",
              "  </script>\n",
              "</div>\n",
              "    </div>\n",
              "  </div>\n"
            ],
            "application/vnd.google.colaboratory.intrinsic+json": {
              "type": "dataframe",
              "variable_name": "df_numerical"
            }
          },
          "metadata": {},
          "execution_count": 8
        }
      ]
    },
    {
      "cell_type": "markdown",
      "source": [
        "### 1.2 Prepare the data\n",
        "Splitting a dataset into training and testing sets is a common practice in machine learning. The primary reason for doing so is to evaluate the performance of a model on unseen data. By splitting the dataset into training and testing sets, we can train our model on the training set and evaluate its performance on the testing set.\n",
        "\n",
        "In this assignment the code used to prepare the data is already given to you\n"
      ],
      "metadata": {
        "id": "eAvhcfiPqkZl"
      }
    },
    {
      "cell_type": "code",
      "source": [
        "df_train = df_numerical[:270]\n",
        "df_test = df_numerical[270:]"
      ],
      "metadata": {
        "id": "QepVke9K4I5N"
      },
      "execution_count": null,
      "outputs": []
    },
    {
      "cell_type": "markdown",
      "source": [
        "It can also be beneficial to **normalize** the columns, so that each column (feature)\n",
        "has the *same* mean and standard deviation."
      ],
      "metadata": {
        "id": "S1HTn2_kFgmB"
      }
    },
    {
      "cell_type": "code",
      "source": [
        "feature_means = df_train.mean().to_numpy()\n",
        "feature_stds  = df_train.std().to_numpy()\n",
        "feature_stds[feature_stds==0] = 0.01\n",
        "train_norm = (df_train - feature_means) / feature_stds\n",
        "test_norm = (df_test - feature_means) / feature_stds"
      ],
      "metadata": {
        "id": "bhcPSv88Fa90"
      },
      "execution_count": null,
      "outputs": []
    },
    {
      "cell_type": "markdown",
      "source": [
        "#### Food for thought:\n",
        "*Notice how in our code, we normalized the test* *set using the training data means and standard* *deviations. This is not a bug.Why would it would* *be improper to compute and use test set means and* *standard deviations. (Hint: Remember what we want* *to use the test accuracy to measure.)*\n"
      ],
      "metadata": {
        "id": "L1S7k0aP2uLP"
      }
    },
    {
      "cell_type": "markdown",
      "source": [
        "\n",
        "Finally we split the labels and the features of the dataset into seperate matrices."
      ],
      "metadata": {
        "id": "JNE7QTDFM0My"
      }
    },
    {
      "cell_type": "code",
      "source": [
        "# convert to numpy\n",
        "train_x = train_norm.drop(\"G3\",axis=1).to_numpy()\n",
        "train_s = train_norm[\"G3\"].to_numpy()\n",
        "test_x = test_norm.drop(\"G3\",axis=1).to_numpy()\n",
        "test_s = test_norm[\"G3\"].to_numpy()"
      ],
      "metadata": {
        "id": "hj9K0lZF2rn4"
      },
      "execution_count": null,
      "outputs": []
    },
    {
      "cell_type": "markdown",
      "source": [
        "### 1.3 check for correlation between the variables in the input\n",
        "before you start fitting models to the data it is important to understand it. calculate and show (in whatever way fits you) the correlation between each of the input parameters('age','Medu','Fedu','traveltime', etc) and the predicted parameter 'G3')\n",
        "you can use the [seaborn](https://seaborn.pydata.org/) library to aid you in this."
      ],
      "metadata": {
        "id": "x40NjNupqnbf"
      }
    },
    {
      "cell_type": "code",
      "source": [
        "import seaborn as sn\n",
        "import matplotlib.pyplot as plt\n",
        "# Insert your code  here\n",
        "parameters = ['Medu','Fedu','traveltime']\n",
        "combined = \"&\".join(parameters)\n",
        "dff = df_train.melt( id_vars=['G3'],var_name=combined, value_vars=parameters)\n",
        "sn.relplot(data=dff, x=\"G3\",y=\"value\",hue=combined)"
      ],
      "metadata": {
        "id": "HOWQahyh9bPQ",
        "colab": {
          "base_uri": "https://localhost:8080/",
          "height": 523
        },
        "outputId": "9721cc55-e496-42e5-da3c-f258cf0faa85"
      },
      "execution_count": null,
      "outputs": [
        {
          "output_type": "execute_result",
          "data": {
            "text/plain": [
              "<seaborn.axisgrid.FacetGrid at 0x7912828740d0>"
            ]
          },
          "metadata": {},
          "execution_count": 89
        },
        {
          "output_type": "display_data",
          "data": {
            "text/plain": [
              "<Figure size 675.986x500 with 1 Axes>"
            ],
            "image/png": "[encoded data removed]"
          },
          "metadata": {}
        }
      ]
    },
    {
      "cell_type": "markdown",
      "source": [
        "#### Food for thought:\n",
        "*what can you learn from this test? are all input* *parameters equally important? which ones could you omit? which two variables are the best predictor of student performance at the end of the year and why?*"
      ],
      "metadata": {
        "id": "q6b04jqk9fo3"
      }
    },
    {
      "cell_type": "markdown",
      "source": [
        "## 2. Linear regression\n",
        "The first task you are going to tackle is Linear regression. In this task we will predict a students performance according to his different parameters.\n"
      ],
      "metadata": {
        "id": "1QyNG-1SqvbG"
      }
    },
    {
      "cell_type": "markdown",
      "source": [
        "### 2.1 Fit a linear model\n",
        " you can use the LinearRegression class from sklearn.linear_model. you can read more on it on:\n",
        "\n",
        " https://scikit-learn.org/stable/modules/generated/sklearn.linear_model.LinearRegression.html\n"
      ],
      "metadata": {
        "id": "twtckPK6qvON"
      }
    },
    {
      "cell_type": "code",
      "source": [
        "from sklearn.linear_model import LinearRegression\n",
        "\n",
        "reg = LinearRegression().fit(train_x,train_s)\n",
        "\n",
        "reg.score(train_x,train_s)\n",
        "# reg.coef_\n",
        "# reg.intercept_\n",
        "\n",
        "predicted = reg.predict(test_x)\n",
        "# Insert your code here"
      ],
      "metadata": {
        "id": "Vn_Bziax_3v8"
      },
      "execution_count": null,
      "outputs": []
    },
    {
      "cell_type": "markdown",
      "source": [
        "### 2.2 Test the accuracy of the model\n",
        "There are several ways to measure the accuracy of a linear regression model. test your model using the '[predict](https://scikit-learn.org/stable/modules/generated/sklearn.linear_model.LinearRegression.html)' function on the test set. you can measure the accuracy using MSE:\n",
        "\n",
        "$MSE= \\sum(s-\\hat{s})^2$\n",
        "\n",
        "or using the $R^2$ value:\n",
        "\n",
        "$1-\\frac{\\text{unexplained variance=MSE}}{Total Variation}=1-\\frac{\\sum(s-\\hat{s})^2}{\\sum(s-\\bar{s})^2}$\n",
        "\n",
        "you can read on it further [here](https://en.wikipedia.org/wiki/Coefficient_of_determination)."
      ],
      "metadata": {
        "id": "sGqdaYRWqu_U"
      }
    },
    {
      "cell_type": "code",
      "source": [
        "# Insert your code here\n",
        "mse = np.mean((predicted - test_s) ** 2)\n",
        "mse\n"
      ],
      "metadata": {
        "id": "gwZJtg9EKNqs",
        "colab": {
          "base_uri": "https://localhost:8080/"
        },
        "outputId": "1d196fbe-3fcf-451c-c23e-66cd91bc1169"
      },
      "execution_count": null,
      "outputs": [
        {
          "output_type": "execute_result",
          "data": {
            "text/plain": [
              "0.21293750306526463"
            ]
          },
          "metadata": {},
          "execution_count": 100
        }
      ]
    },
    {
      "cell_type": "markdown",
      "source": [
        "If everything went correctly you should get an MSE value of around 0.11 and around 0.87 for $R^2$ ."
      ],
      "metadata": {
        "id": "3nmILIqdaLN_"
      }
    },
    {
      "cell_type": "markdown",
      "source": [
        "### 2.3 save the parameters of the model"
      ],
      "metadata": {
        "id": "MDtxLRitqueT"
      }
    },
    {
      "cell_type": "markdown",
      "source": [
        "- Run the code block below.\n",
        "- copy the coefficients list and paste it in the return value of the function 'linear_regression_coeff_submission' in the functions file **in your google drive**.\n",
        "- copy the intercept value and paste it in the return value of the function 'linear_regression_intrcpt_submission' in the function file **in your google drive**.\n",
        "\n",
        "THESE VALUES WILL BE USED TO GRADE YOU SO MAKE SURE YOU COPIED THEM CORRECTLY"
      ],
      "metadata": {
        "id": "Vx8KjdkvXKPc"
      }
    },
    {
      "cell_type": "code",
      "source": [
        "coef = reg.coef_\n",
        "intrcpt = reg.intercept_\n",
        "print(\"coefficients: \")\n",
        "print(coef.tolist())\n",
        "print(\"intercept: \")\n",
        "print(intrcpt)"
      ],
      "metadata": {
        "id": "1P7mdZY5pYdj",
        "colab": {
          "base_uri": "https://localhost:8080/"
        },
        "outputId": "117d5887-b373-43db-e596-98f3764f3ba0"
      },
      "execution_count": null,
      "outputs": [
        {
          "output_type": "stream",
          "name": "stdout",
          "text": [
            "coefficients: \n",
            "[-0.06496496896256715, 0.033398902102157985, -0.038847007375290746, 0.012044787727742699, -0.029097438253850822, -0.011129265313129784, 0.069838328501795, 0.013006390073251942, 0.012869193227570753, -0.035894532631233364, 0.04686487529558911, 0.01436839739511245, 0.0653184261234556, 0.18136011522806844, 0.7620525130799359, 0.019740786078214688, 0.024320185390606167, -0.012985654533229897, 0.010099824229799707, -0.030246036114280436, 0.036654635370096916, 0.015142523256426507, -0.006972279590584386, -0.029946923850626722, -0.011880487138290067, 0.012175145200750036, -0.011619355751108146, -0.008766695144408441]\n",
            "intercept: \n",
            "9.444328422750042e-17\n"
          ]
        }
      ]
    },
    {
      "cell_type": "markdown",
      "source": [
        "To make sure you copied the values correctly you can run the following block:"
      ],
      "metadata": {
        "id": "b6t0v5eWYIzy"
      }
    },
    {
      "cell_type": "code",
      "source": [
        "reload_functions()\n",
        "import ML_DL_Functions1\n",
        "if abs(ML_DL_Functions1.linear_regression_coeff_submission() - coef).sum()>(10**(-6)):\n",
        "  print(\"Coefficients were NOT copied correctly\")\n",
        "elif ML_DL_Functions1.linear_regression_intrcpt_submission() != intrcpt:\n",
        "  print(\"Intercept Value was NOT copied correctly\")\n",
        "else:\n",
        "  print(\"copied correctly\")\n"
      ],
      "metadata": {
        "id": "WoxjGtYZYRWl",
        "colab": {
          "base_uri": "https://localhost:8080/"
        },
        "outputId": "2b3b1496-b977-458f-81b5-2e285c150385"
      },
      "execution_count": null,
      "outputs": [
        {
          "output_type": "stream",
          "name": "stdout",
          "text": [
            "cp: '/content/ML_DL_Functions1.py' and './ML_DL_Functions1.py' are the same file\n",
            "copied correctly\n"
          ]
        }
      ]
    },
    {
      "cell_type": "markdown",
      "source": [
        "### 2.4 test your skills in Linear algebra and compare the result to sklearn\n",
        "While using Sklearn's built in linear regression is easy it is also important to see that it is not too complicated to write the regression by yourself. In class you were tought that the linear regression could be estimated using the Least Squares method. The Psudo-Inverse is defined as\n",
        "$\\theta^* = (X^TX)^{-1}X^Ts$. Use this knowledge to write the linear regression yourself. Fill in the LeastSquares function in the functions file.\n",
        "In this function you are not allowed to use the sklearn or scipy libraries."
      ],
      "metadata": {
        "id": "90RMGY2Xq4l5"
      }
    },
    {
      "cell_type": "code",
      "source": [
        "import scipy\n",
        "\n",
        "from copy import deepcopy\n",
        "reload_functions()\n",
        "import ML_DL_Functions1\n",
        "theta = ML_DL_Functions1.LeastSquares(train_x,train_s)"
      ],
      "metadata": {
        "id": "MZWJtiqRq9r2",
        "colab": {
          "base_uri": "https://localhost:8080/"
        },
        "outputId": "d07139a9-fa78-4c94-c9e7-39fd89a3ac2a"
      },
      "execution_count": null,
      "outputs": [
        {
          "output_type": "stream",
          "name": "stdout",
          "text": [
            "cp: '/content/ML_DL_Functions1.py' and './ML_DL_Functions1.py' are the same file\n"
          ]
        }
      ]
    },
    {
      "cell_type": "markdown",
      "source": [
        "Test the accuracy of the model, as in 2.2"
      ],
      "metadata": {
        "id": "TFIrJPx1pHAf"
      }
    },
    {
      "cell_type": "code",
      "source": [
        "theta_sized = (np.pad(theta[:len(theta)], (0, max(0, len(train_s) -len(theta)))))\n",
        "np.mean((theta_sized - train_s) ** 2)"
      ],
      "metadata": {
        "id": "_4G3nsbfnz0-",
        "colab": {
          "base_uri": "https://localhost:8080/"
        },
        "outputId": "238c5804-ba14-44d1-8e69-3f06296d9c19"
      },
      "execution_count": null,
      "outputs": [
        {
          "output_type": "execute_result",
          "data": {
            "text/plain": [
              "0.9943502920883277"
            ]
          },
          "metadata": {},
          "execution_count": 224
        }
      ]
    },
    {
      "cell_type": "markdown",
      "source": [
        "## 3. Linear classification\n",
        "In this section you will be classifying wether a students performance in the end of the year was above average or not according to all other metrics."
      ],
      "metadata": {
        "id": "d_iQbaSIq402"
      }
    },
    {
      "cell_type": "markdown",
      "source": [
        "### 3.1 prepare the data: split the dataset between students with grades above average and below and then split again for train test\n",
        "\n",
        "To set up our data for classification, we'll use the \"G3\" field to represent whether a student achieved a performance above average or below. In our case `df_cl[\"G3\"]` will be 1 if the students performance is above average and 0 otherwise."
      ],
      "metadata": {
        "id": "YDYGWpWbq5dL"
      }
    },
    {
      "cell_type": "code",
      "source": [
        "from copy import deepcopy\n",
        "df_cl = deepcopy(df_numerical)\n",
        "print(\"average performance= \"+ str(df_cl['G3'].mean()))\n",
        "df_cl[\"G3\"] = df[\"G3\"].map(lambda x: int(x > 10))\n",
        "df_cl[\"G3\"]"
      ],
      "metadata": {
        "id": "BhPssJ3L9mA2",
        "colab": {
          "base_uri": "https://localhost:8080/"
        },
        "outputId": "8a32c230-0dc7-4299-8a4f-ac44214feb74"
      },
      "execution_count": null,
      "outputs": [
        {
          "output_type": "stream",
          "name": "stdout",
          "text": [
            "average performance= 10.494117647058824\n"
          ]
        },
        {
          "output_type": "execute_result",
          "data": {
            "text/plain": [
              "242    0\n",
              "57     1\n",
              "302    1\n",
              "142    1\n",
              "105    1\n",
              "      ..\n",
              "259    0\n",
              "165    1\n",
              "282    0\n",
              "112    0\n",
              "92     1\n",
              "Name: G3, Length: 340, dtype: int64"
            ]
          },
          "metadata": {},
          "execution_count": 226
        }
      ]
    },
    {
      "cell_type": "markdown",
      "source": [
        "Next you need to normalize and split the dataframe into a training and test sets just like was done in part 1.2.\n",
        "\n",
        "**Notice that when normalizing you do not normalize the labels**"
      ],
      "metadata": {
        "id": "yflfqzze9y5U"
      }
    },
    {
      "cell_type": "code",
      "source": [
        "# Insert your code here for normalizing and splitting the dataset for train and test\n",
        "train_cl_x = df_cl.drop(\"G3\",axis=1).to_numpy()[:270]\n",
        "train_cl_s = df_cl[\"G3\"].to_numpy()[:270]\n",
        "test_cl_x = df_cl.drop(\"G3\",axis=1).to_numpy()[270:]\n",
        "test_cl_s = df_cl[\"G3\"].to_numpy()[270:]"
      ],
      "metadata": {
        "id": "2seaeGPF-Dpr"
      },
      "execution_count": null,
      "outputs": []
    },
    {
      "cell_type": "markdown",
      "source": [
        "### 3.2 Fit an svm model to the data to predict whether a grade is above or below average\n",
        "Read on [the svm implementation of sklearn](https://scikit-learn.org/stable/modules/generated/sklearn.svm.LinearSVC.html). fit the model on the training classification dataset you built."
      ],
      "metadata": {
        "id": "WFzrCJvJq_ws"
      }
    },
    {
      "cell_type": "code",
      "source": [
        "import sklearn.svm\n",
        "svc = sklearn.svm.LinearSVC()\n",
        "svc.fit(train_cl_x, train_cl_s)\n",
        "\n",
        "# Insert your code here:"
      ],
      "metadata": {
        "id": "fIu1P6Ps-KzY",
        "colab": {
          "base_uri": "https://localhost:8080/"
        },
        "outputId": "35427128-4472-4b70-f7df-d2435adbdf14"
      },
      "execution_count": null,
      "outputs": [
        {
          "output_type": "stream",
          "name": "stderr",
          "text": [
            "/usr/local/lib/python3.10/dist-packages/sklearn/svm/_base.py:1244: ConvergenceWarning: Liblinear failed to converge, increase the number of iterations.\n",
            "  warnings.warn(\n"
          ]
        },
        {
          "output_type": "execute_result",
          "data": {
            "text/plain": [
              "array([0, 0, 0, 0, 0, 1, 1, 0, 0, 1, 1, 0, 0, 0, 0, 1, 1, 1, 0, 0, 1, 0,\n",
              "       0, 0, 1, 0, 1, 1, 0, 0, 0, 0, 0, 0, 0, 0, 1, 0, 0, 1, 0, 0, 1, 0,\n",
              "       1, 0, 1, 1, 1, 1, 0, 0, 1, 1, 0, 1, 1, 0, 1, 0, 1, 0, 0, 1, 0, 0,\n",
              "       1, 1, 1, 1])"
            ]
          },
          "metadata": {},
          "execution_count": 236
        }
      ]
    },
    {
      "cell_type": "markdown",
      "source": [
        "### 3.3 Test your model\n",
        "For classification accuracy is usually calculated as the number of correct predictions divided by number of total predictions:\n",
        "$$100*\\frac{\\text{Number of correct predicitions}}{\\text{Number of total predictions}}$$\n",
        "\n",
        "The accuracy is calculated on the test set. Fill in the accuracy function in the functions file and run the test below:"
      ],
      "metadata": {
        "id": "0aT40KASq_Sr"
      }
    },
    {
      "cell_type": "code",
      "source": [
        "reload_functions()\n",
        "import ML_DL_Functions1\n",
        "ML_DL_Functions1.classification_accuracy(svc,test_cl_x,test_cl_s)"
      ],
      "metadata": {
        "id": "5y60UevD7Xf5",
        "colab": {
          "base_uri": "https://localhost:8080/"
        },
        "outputId": "223c2e6d-17de-4f2b-caeb-731532667c91"
      },
      "execution_count": null,
      "outputs": [
        {
          "output_type": "stream",
          "name": "stdout",
          "text": [
            "cp: '/content/ML_DL_Functions1.py' and './ML_DL_Functions1.py' are the same file\n"
          ]
        },
        {
          "output_type": "execute_result",
          "data": {
            "text/plain": [
              "87.14285714285714"
            ]
          },
          "metadata": {},
          "execution_count": 252
        }
      ]
    },
    {
      "cell_type": "markdown",
      "source": [
        "If everything worked correctly you should get an accuracy of around  90%"
      ],
      "metadata": {
        "id": "P17lQ62D7YE-"
      }
    },
    {
      "cell_type": "markdown",
      "source": [
        "### 3.4 save the parameters of the model\n",
        "- Run the code block below.\n",
        "- copy the coefficients list and paste it in the return value of the function 'classification_coeff_submission' in the functions file **in your google drive**.\n",
        "- copy the intercept value and paste it in the return value of the function 'classification_intrcpt_submission' in the functions file **in your google drive**.\n",
        "- copy the classes value and paste it in the return value of the function 'classification_classes_submission' in the functions file **in your google drive**.\n",
        "\n",
        "THESE VALUES WILL BE USED TO GRADE YOU SO MAKE SURE YOU COPIED THEM CORRECTLY"
      ],
      "metadata": {
        "id": "rpFmbelhq-y5"
      }
    },
    {
      "cell_type": "code",
      "source": [
        "coef_cl = svc.coef_\n",
        "intrcpt_cl = svc.intercept_\n",
        "classes_cl = svc.classes_\n",
        "print(coef_cl)\n",
        "print(intrcpt_cl)\n",
        "print(classes_cl)"
      ],
      "metadata": {
        "id": "VIxRrWTlWijp",
        "colab": {
          "base_uri": "https://localhost:8080/"
        },
        "outputId": "98e398c5-e1cd-483b-c086-dc11c18ce5f1"
      },
      "execution_count": null,
      "outputs": [
        {
          "output_type": "stream",
          "name": "stdout",
          "text": [
            "[[-0.48826497 -0.20210738  0.17922997  0.00259262 -0.3320425  -0.18314773\n",
            "  -0.03520271 -0.09048556  0.06414718  0.19111208 -0.4205028  -0.04716788\n",
            "   0.00172964  0.30897884  0.84063894 -1.14887613  0.28614919  0.09496929\n",
            "  -0.47144248 -0.87916955  0.4800524   0.2419682   0.10314261 -0.47021703\n",
            "  -1.10446025 -0.0021832  -0.15697177  0.97290426]]\n",
            "[-0.55793885]\n",
            "[0 1]\n"
          ]
        }
      ]
    },
    {
      "cell_type": "markdown",
      "source": [
        "Make sure you copied your values correctly:"
      ],
      "metadata": {
        "id": "Y2qTEPfHi5ir"
      }
    },
    {
      "cell_type": "code",
      "source": [
        "reload_functions()\n",
        "import ML_DL_Functions1\n",
        "if abs(ML_DL_Functions1.classification_coeff_submission() - coef_cl).sum()>(10**(-6)):\n",
        "  print(\"Coefficients were NOT copied correctly\")\n",
        "elif ML_DL_Functions1.classification_intrcpt_submission()[0]- intrcpt_cl[0]>(10**(-6)):\n",
        "  print(\"Intercept Value was NOT copied correctly\")\n",
        "elif (ML_DL_Functions1.classification_classes_submission() - classes_cl).sum()!=0:\n",
        "  print(\"Intercept Value was NOT copied correctly\")\n",
        "else:\n",
        "  print(\"copied correctly\")"
      ],
      "metadata": {
        "id": "Z924z4Ahiy3F",
        "colab": {
          "base_uri": "https://localhost:8080/"
        },
        "outputId": "73114320-be9f-46d5-cbec-c26c84f06714"
      },
      "execution_count": null,
      "outputs": [
        {
          "output_type": "stream",
          "name": "stdout",
          "text": [
            "cp: '/content/ML_DL_Functions1.py' and './ML_DL_Functions1.py' are the same file\n",
            "copied correctly\n"
          ]
        }
      ]
    }
  ]
}